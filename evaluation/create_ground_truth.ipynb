{
 "cells": [
  {
   "cell_type": "markdown",
   "id": "07a1f9aa-46e0-4616-8433-e572c5b0ef2e",
   "metadata": {},
   "source": [
    "# Notebook For Q&A OffLine Evaluation"
   ]
  },
  {
   "cell_type": "markdown",
   "id": "e93a8552-79ae-4acc-afb3-7ae9ee71fac6",
   "metadata": {},
   "source": [
    "## 1. Retrival Groundtruth : Create a set of possible questions for each Q&A"
   ]
  },
  {
   "cell_type": "code",
   "execution_count": 1,
   "id": "40147a2e-8d5d-49f6-91e2-da6e7582e2da",
   "metadata": {},
   "outputs": [
    {
     "name": "stderr",
     "output_type": "stream",
     "text": [
      "/home/codespace/.cache/pypoetry/virtualenvs/models-io_XXpQJ-py3.12/lib/python3.12/site-packages/tqdm/auto.py:21: TqdmWarning: IProgress not found. Please update jupyter and ipywidgets. See https://ipywidgets.readthedocs.io/en/stable/user_install.html\n",
      "  from .autonotebook import tqdm as notebook_tqdm\n",
      "Fetching 5 files: 100%|█████████████████████████████████████████████████████████████████████████████████████████████████████████████████████████████████| 5/5 [00:00<00:00, 24132.93it/s]\n"
     ]
    }
   ],
   "source": [
    "import sys\n",
    "sys.path.append('../models/src')\n",
    "\n",
    "# Now you can import hypno\n",
    "from chains.hypnoq_chain import vector_store, groq_llm\n",
    "from langchain_core.output_parsers import StrOutputParser\n",
    "from langchain.prompts import (\n",
    "    PromptTemplate,\n",
    "    SystemMessagePromptTemplate,\n",
    "    HumanMessagePromptTemplate,\n",
    "    ChatPromptTemplate,\n",
    ")\n",
    "\n",
    "import os\n",
    "import ast\n",
    "from tqdm import tqdm \n",
    "import pandas as pd"
   ]
  },
  {
   "cell_type": "markdown",
   "id": "463b2ca1-015b-4c30-b554-7edbd5ab4708",
   "metadata": {},
   "source": [
    "### loading the q&a vector database"
   ]
  },
  {
   "cell_type": "code",
   "execution_count": 4,
   "id": "50ae0623-6231-4124-8089-2128c2696d3e",
   "metadata": {},
   "outputs": [],
   "source": [
    "# Access the document store\n",
    "stored_docs = vector_store.docstore._dict"
   ]
  },
  {
   "cell_type": "markdown",
   "id": "c7f8c70e-41b0-4fe0-87eb-89da05a3583c",
   "metadata": {},
   "source": [
    "### a prompt for emulating test questions"
   ]
  },
  {
   "cell_type": "code",
   "execution_count": 3,
   "id": "d91a3f91-1888-4270-a53c-847e6e8640f8",
   "metadata": {},
   "outputs": [],
   "source": [
    "emulation_prompt = \"\"\"You emulate a potential client who is considering hypnotherapy services.\n",
    "Formulate 5 questions this client might ask based on a FAQ record that is provided.\n",
    "The record should contain the answer to the questions, and the questions should be complete and not too short.\n",
    "\n",
    "The record:\n",
    "\n",
    "question: {question}\n",
    "answer: {text}\n",
    "\n",
    "Provide the output as a valid JSON array without using code blocks, extra characters like asterisks (*), or numbering. The format should be exactly:\n",
    "\n",
    "[\"question1\", \"question2\", ..., \"question5\"]\"\"\"\n",
    "\n",
    "\n",
    "\n",
    "emulation_system_prompt = SystemMessagePromptTemplate(\n",
    "    prompt=PromptTemplate(input_variables=[\"question\",\"text\"], template=emulation_prompt)\n",
    ")\n",
    "\n",
    "messages = [emulation_system_prompt]\n",
    "\n",
    "emulation_tamplate = ChatPromptTemplate(\n",
    "    input_variables=[\"question\",\"text\"], messages=messages\n",
    ")\n",
    "\n",
    "output_parser = StrOutputParser()\n",
    "\n",
    "emulation_chain = emulation_tamplate | groq_llm | output_parser\n"
   ]
  },
  {
   "cell_type": "markdown",
   "id": "b0b58e55-4cc0-4733-ba82-cd89eac90bbb",
   "metadata": {},
   "source": [
    "### testing the prompt"
   ]
  },
  {
   "cell_type": "code",
   "execution_count": 4,
   "id": "5ef88985-4d5c-4650-97d5-65419e5120b1",
   "metadata": {},
   "outputs": [
    {
     "name": "stdout",
     "output_type": "stream",
     "text": [
      "[\"Will hypnotherapy work for me even if I'm skeptical about its effectiveness?\", \n",
      "\"How much control will I have during the hypnotherapy sessions?\", \n",
      "\"What is expected from me in terms of effort and commitment for the therapy to be successful?\", \n",
      "\"Can cognitive hypnotherapy help me overcome habits that I've had for many years?\", \n",
      "\"What are the common traits of clients who have achieved positive changes through hypnotherapy?\"]\n"
     ]
    }
   ],
   "source": [
    "answer = \"\"\"Everyone is capable of change. Whether you will effect that change is largely down to you. Cognitive Hypnotherapy isn’t a miracle pill.\n",
    "It’s a process of mental reprogramming. Our sessions will guide you to learn how to think, behave, and feel differently. \n",
    "\n",
    "Since I began practicing as a therapist, I’ve noticed some common traits among the clients who have made the most positive changes in their lives.\n",
    "They are curious, willing to learn about themselves, and being prepared to put in the work. I can guide you. \n",
    "And I will support you always. But nobody can do it for you.\"\"\"\n",
    "\n",
    "reply = emulation_chain.invoke(dict(question='Q: Will hypnotherapy work for Me?',text=answer))\n",
    "print(reply)"
   ]
  },
  {
   "cell_type": "markdown",
   "id": "0baa72a5-00d4-4eaa-b07d-64440257a203",
   "metadata": {},
   "source": [
    "### creating the ground truth dataset for testing the chatbot"
   ]
  },
  {
   "cell_type": "code",
   "execution_count": 5,
   "id": "61c3f0c5-8445-41ab-b9c2-41f9d22b39e5",
   "metadata": {},
   "outputs": [
    {
     "name": "stderr",
     "output_type": "stream",
     "text": [
      "Processing Documents: 100%|████████████████████████████████████████████████████████████████████████████████████████████████████████████████████████| 17/17 [00:19<00:00,  1.14s/it]"
     ]
    },
    {
     "name": "stdout",
     "output_type": "stream",
     "text": [
      "Error parsing the string: unterminated string literal (detected at line 6) (<unknown>, line 6)\n"
     ]
    },
    {
     "name": "stderr",
     "output_type": "stream",
     "text": [
      "\n"
     ]
    }
   ],
   "source": [
    "val_dict = dict(doc_id=[], orig_quest=[], questions=[])\n",
    "\n",
    "# Iterate over the documents with a progress bar\n",
    "for _, doc in tqdm(stored_docs.items(), desc=\"Processing Documents\"):\n",
    "\n",
    "    quest, answer = doc.page_content.split('\\n', 1)\n",
    "    doc_id = doc.metadata.get('doc_id', None)\n",
    "    reply = emulation_chain.invoke(dict(question=quest, text=answer))\n",
    "\n",
    "    try:\n",
    "        # Try to convert the string to an actual list\n",
    "        actual_list = ast.literal_eval(reply)\n",
    "    except (SyntaxError, ValueError) as e:\n",
    "        print(f\"Error parsing the string: {e}\")\n",
    "        continue\n",
    "\n",
    "    val_dict['doc_id'].append(doc_id)\n",
    "    val_dict['orig_quest'].append(quest)\n",
    "    val_dict['questions'].append(actual_list)\n",
    "   "
   ]
  },
  {
   "cell_type": "code",
   "execution_count": 6,
   "id": "67f725b7-489a-4e5a-bc1c-bc75a0a4fe95",
   "metadata": {},
   "outputs": [
    {
     "data": {
      "text/html": [
       "<div>\n",
       "<style scoped>\n",
       "    .dataframe tbody tr th:only-of-type {\n",
       "        vertical-align: middle;\n",
       "    }\n",
       "\n",
       "    .dataframe tbody tr th {\n",
       "        vertical-align: top;\n",
       "    }\n",
       "\n",
       "    .dataframe thead th {\n",
       "        text-align: right;\n",
       "    }\n",
       "</style>\n",
       "<table border=\"1\" class=\"dataframe\">\n",
       "  <thead>\n",
       "    <tr style=\"text-align: right;\">\n",
       "      <th></th>\n",
       "      <th>doc_id</th>\n",
       "      <th>orig_quest</th>\n",
       "      <th>questions</th>\n",
       "    </tr>\n",
       "  </thead>\n",
       "  <tbody>\n",
       "    <tr>\n",
       "      <th>0</th>\n",
       "      <td>34cdb806-9fd2-4b74-895a-134bfdb7bcac</td>\n",
       "      <td>What is hypnosis and is it safe?</td>\n",
       "      <td>What exactly is hypnosis and how does it work?</td>\n",
       "    </tr>\n",
       "    <tr>\n",
       "      <th>1</th>\n",
       "      <td>34cdb806-9fd2-4b74-895a-134bfdb7bcac</td>\n",
       "      <td>What is hypnosis and is it safe?</td>\n",
       "      <td>Is hypnosis a safe procedure?</td>\n",
       "    </tr>\n",
       "    <tr>\n",
       "      <th>2</th>\n",
       "      <td>34cdb806-9fd2-4b74-895a-134bfdb7bcac</td>\n",
       "      <td>What is hypnosis and is it safe?</td>\n",
       "      <td>Can you explain how hypnosis can be used to ma...</td>\n",
       "    </tr>\n",
       "    <tr>\n",
       "      <th>3</th>\n",
       "      <td>34cdb806-9fd2-4b74-895a-134bfdb7bcac</td>\n",
       "      <td>What is hypnosis and is it safe?</td>\n",
       "      <td>Are there any risks associated with going into...</td>\n",
       "    </tr>\n",
       "    <tr>\n",
       "      <th>4</th>\n",
       "      <td>34cdb806-9fd2-4b74-895a-134bfdb7bcac</td>\n",
       "      <td>What is hypnosis and is it safe?</td>\n",
       "      <td>How is hypnosis similar to day-dreaming and ca...</td>\n",
       "    </tr>\n",
       "    <tr>\n",
       "      <th>...</th>\n",
       "      <td>...</td>\n",
       "      <td>...</td>\n",
       "      <td>...</td>\n",
       "    </tr>\n",
       "    <tr>\n",
       "      <th>75</th>\n",
       "      <td>ce3a25a9-cf78-44c3-b0dd-48bb8664c974</td>\n",
       "      <td>Q: I feel quite slightly embarrassed to seek h...</td>\n",
       "      <td>I feel quite slightly embarrassed to seek help...</td>\n",
       "    </tr>\n",
       "    <tr>\n",
       "      <th>76</th>\n",
       "      <td>ce3a25a9-cf78-44c3-b0dd-48bb8664c974</td>\n",
       "      <td>Q: I feel quite slightly embarrassed to seek h...</td>\n",
       "      <td>Will my concerns and fears about seeking help ...</td>\n",
       "    </tr>\n",
       "    <tr>\n",
       "      <th>77</th>\n",
       "      <td>ce3a25a9-cf78-44c3-b0dd-48bb8664c974</td>\n",
       "      <td>Q: I feel quite slightly embarrassed to seek h...</td>\n",
       "      <td>What are some of the barriers that I might pas...</td>\n",
       "    </tr>\n",
       "    <tr>\n",
       "      <th>78</th>\n",
       "      <td>ce3a25a9-cf78-44c3-b0dd-48bb8664c974</td>\n",
       "      <td>Q: I feel quite slightly embarrassed to seek h...</td>\n",
       "      <td>Is it common for people to have reservations o...</td>\n",
       "    </tr>\n",
       "    <tr>\n",
       "      <th>79</th>\n",
       "      <td>ce3a25a9-cf78-44c3-b0dd-48bb8664c974</td>\n",
       "      <td>Q: I feel quite slightly embarrassed to seek h...</td>\n",
       "      <td>Will we discuss any fears or concerns I have a...</td>\n",
       "    </tr>\n",
       "  </tbody>\n",
       "</table>\n",
       "<p>80 rows × 3 columns</p>\n",
       "</div>"
      ],
      "text/plain": [
       "                                  doc_id  \\\n",
       "0   34cdb806-9fd2-4b74-895a-134bfdb7bcac   \n",
       "1   34cdb806-9fd2-4b74-895a-134bfdb7bcac   \n",
       "2   34cdb806-9fd2-4b74-895a-134bfdb7bcac   \n",
       "3   34cdb806-9fd2-4b74-895a-134bfdb7bcac   \n",
       "4   34cdb806-9fd2-4b74-895a-134bfdb7bcac   \n",
       "..                                   ...   \n",
       "75  ce3a25a9-cf78-44c3-b0dd-48bb8664c974   \n",
       "76  ce3a25a9-cf78-44c3-b0dd-48bb8664c974   \n",
       "77  ce3a25a9-cf78-44c3-b0dd-48bb8664c974   \n",
       "78  ce3a25a9-cf78-44c3-b0dd-48bb8664c974   \n",
       "79  ce3a25a9-cf78-44c3-b0dd-48bb8664c974   \n",
       "\n",
       "                                           orig_quest  \\\n",
       "0                    What is hypnosis and is it safe?   \n",
       "1                    What is hypnosis and is it safe?   \n",
       "2                    What is hypnosis and is it safe?   \n",
       "3                    What is hypnosis and is it safe?   \n",
       "4                    What is hypnosis and is it safe?   \n",
       "..                                                ...   \n",
       "75  Q: I feel quite slightly embarrassed to seek h...   \n",
       "76  Q: I feel quite slightly embarrassed to seek h...   \n",
       "77  Q: I feel quite slightly embarrassed to seek h...   \n",
       "78  Q: I feel quite slightly embarrassed to seek h...   \n",
       "79  Q: I feel quite slightly embarrassed to seek h...   \n",
       "\n",
       "                                            questions  \n",
       "0      What exactly is hypnosis and how does it work?  \n",
       "1                       Is hypnosis a safe procedure?  \n",
       "2   Can you explain how hypnosis can be used to ma...  \n",
       "3   Are there any risks associated with going into...  \n",
       "4   How is hypnosis similar to day-dreaming and ca...  \n",
       "..                                                ...  \n",
       "75  I feel quite slightly embarrassed to seek help...  \n",
       "76  Will my concerns and fears about seeking help ...  \n",
       "77  What are some of the barriers that I might pas...  \n",
       "78  Is it common for people to have reservations o...  \n",
       "79  Will we discuss any fears or concerns I have a...  \n",
       "\n",
       "[80 rows x 3 columns]"
      ]
     },
     "execution_count": 6,
     "metadata": {},
     "output_type": "execute_result"
    }
   ],
   "source": [
    "df = pd.DataFrame.from_dict(val_dict)\n",
    "\n",
    "# Explode the 'questions' column to create a row for each question\n",
    "df_ground_truth = df.explode('questions')\n",
    "\n",
    "# Reset the index if needed\n",
    "df_ground_truth.reset_index(drop=True, inplace=True)\n",
    "\n",
    "df_ground_truth"
   ]
  },
  {
   "cell_type": "code",
   "execution_count": 7,
   "id": "2354dbc7-1fce-4b9f-abfa-1e94a61fd051",
   "metadata": {},
   "outputs": [],
   "source": [
    "df_ground_truth.to_csv('ground-truth-data.csv', index=False)"
   ]
  },
  {
   "cell_type": "markdown",
   "id": "85c99f96-073a-426f-870c-14d3bddbef7d",
   "metadata": {},
   "source": [
    "## 2. RAG Evaluation : Create a set of LLM answers and the original answers"
   ]
  },
  {
   "cell_type": "code",
   "execution_count": 2,
   "id": "f986a387-5adb-4d73-9b27-f2851cf316fe",
   "metadata": {},
   "outputs": [],
   "source": [
    "# Now you can import hypno\n",
    "from chains.hypnoq_chain import qna_vector_chain"
   ]
  },
  {
   "cell_type": "code",
   "execution_count": 6,
   "id": "204a1437-991e-4ead-af95-05471d0aeb6f",
   "metadata": {},
   "outputs": [
    {
     "name": "stderr",
     "output_type": "stream",
     "text": [
      "Processing Documents: 100%|██████████████████████████████████████████████████████████████████████████████████████████████████████████████████████████████| 17/17 [02:57<00:00, 10.44s/it]\n"
     ]
    }
   ],
   "source": [
    "rag_dict = dict(doc_id=[], question=[], orig_answer=[], llm_answer=[])\n",
    "\n",
    "# Iterate over the documents with a progress bar\n",
    "for _, doc in tqdm(stored_docs.items(), desc=\"Processing Documents\"):\n",
    "\n",
    "    quest, answer = doc.page_content.split('\\n', 1)\n",
    "    doc_id = doc.metadata.get('doc_id', None)\n",
    "    reply = qna_vector_chain.invoke({'question':quest})\n",
    "\n",
    "    rag_dict['doc_id'].append(doc_id)\n",
    "    rag_dict['question'].append(quest)\n",
    "    rag_dict['orig_answer'].append(answer)\n",
    "    rag_dict['llm_answer'].append(reply.content)"
   ]
  },
  {
   "cell_type": "code",
   "execution_count": 7,
   "id": "dc9e6bfc-fad5-4009-9726-27bb8ec0f4aa",
   "metadata": {},
   "outputs": [
    {
     "data": {
      "text/html": [
       "<div>\n",
       "<style scoped>\n",
       "    .dataframe tbody tr th:only-of-type {\n",
       "        vertical-align: middle;\n",
       "    }\n",
       "\n",
       "    .dataframe tbody tr th {\n",
       "        vertical-align: top;\n",
       "    }\n",
       "\n",
       "    .dataframe thead th {\n",
       "        text-align: right;\n",
       "    }\n",
       "</style>\n",
       "<table border=\"1\" class=\"dataframe\">\n",
       "  <thead>\n",
       "    <tr style=\"text-align: right;\">\n",
       "      <th></th>\n",
       "      <th>doc_id</th>\n",
       "      <th>question</th>\n",
       "      <th>orig_answer</th>\n",
       "      <th>llm_answer</th>\n",
       "    </tr>\n",
       "  </thead>\n",
       "  <tbody>\n",
       "    <tr>\n",
       "      <th>0</th>\n",
       "      <td>8cc35327-1cc6-4b18-b54d-9173f0579153</td>\n",
       "      <td>What is hypnosis and is it safe?</td>\n",
       "      <td>During hypnosis I use this state within you to...</td>\n",
       "      <td>Hypnosis is a state during which your unconsci...</td>\n",
       "    </tr>\n",
       "    <tr>\n",
       "      <th>1</th>\n",
       "      <td>636635e5-020e-4e8e-a153-6f77dbefeb29</td>\n",
       "      <td>What is Cognitive Hypnotherapy?</td>\n",
       "      <td>Cognitive Hypnotherapy is a person-centered, f...</td>\n",
       "      <td>Cognitive Hypnotherapy is a person-centered, f...</td>\n",
       "    </tr>\n",
       "    <tr>\n",
       "      <th>2</th>\n",
       "      <td>2023c157-d1b5-4d55-9bd1-beb8758345b8</td>\n",
       "      <td>My approach</td>\n",
       "      <td>Your treatment plan will be tailored to your s...</td>\n",
       "      <td>Based on the provided context, the hypnotherap...</td>\n",
       "    </tr>\n",
       "    <tr>\n",
       "      <th>3</th>\n",
       "      <td>d1e4f485-2609-4ace-a7bd-113382652c2a</td>\n",
       "      <td>Q: What do we mean by hypnotherapy?</td>\n",
       "      <td>People tend to think of hypnotherapy as someth...</td>\n",
       "      <td>Hypnotherapy is a process of mental reprogramm...</td>\n",
       "    </tr>\n",
       "    <tr>\n",
       "      <th>4</th>\n",
       "      <td>79ebc3c8-067b-49fc-a669-d66915eccd2f</td>\n",
       "      <td>Q: Will hypnotherapy work for Me?</td>\n",
       "      <td>Everyone is capable of change. Whether you wil...</td>\n",
       "      <td>The text states that everyone is capable of ch...</td>\n",
       "    </tr>\n",
       "  </tbody>\n",
       "</table>\n",
       "</div>"
      ],
      "text/plain": [
       "                                 doc_id                             question  \\\n",
       "0  8cc35327-1cc6-4b18-b54d-9173f0579153     What is hypnosis and is it safe?   \n",
       "1  636635e5-020e-4e8e-a153-6f77dbefeb29      What is Cognitive Hypnotherapy?   \n",
       "2  2023c157-d1b5-4d55-9bd1-beb8758345b8                          My approach   \n",
       "3  d1e4f485-2609-4ace-a7bd-113382652c2a  Q: What do we mean by hypnotherapy?   \n",
       "4  79ebc3c8-067b-49fc-a669-d66915eccd2f    Q: Will hypnotherapy work for Me?   \n",
       "\n",
       "                                         orig_answer  \\\n",
       "0  During hypnosis I use this state within you to...   \n",
       "1  Cognitive Hypnotherapy is a person-centered, f...   \n",
       "2  Your treatment plan will be tailored to your s...   \n",
       "3  People tend to think of hypnotherapy as someth...   \n",
       "4  Everyone is capable of change. Whether you wil...   \n",
       "\n",
       "                                          llm_answer  \n",
       "0  Hypnosis is a state during which your unconsci...  \n",
       "1  Cognitive Hypnotherapy is a person-centered, f...  \n",
       "2  Based on the provided context, the hypnotherap...  \n",
       "3  Hypnotherapy is a process of mental reprogramm...  \n",
       "4  The text states that everyone is capable of ch...  "
      ]
     },
     "execution_count": 7,
     "metadata": {},
     "output_type": "execute_result"
    }
   ],
   "source": [
    "df_llm = pd.DataFrame.from_dict(rag_dict)\n",
    "\n",
    "df_llm.head(5)"
   ]
  },
  {
   "cell_type": "code",
   "execution_count": 18,
   "id": "78a997bb-7a7e-4d66-9ec3-23f180bc5249",
   "metadata": {},
   "outputs": [],
   "source": [
    "df_llm.to_csv('llm_results.csv', index=False)"
   ]
  },
  {
   "cell_type": "code",
   "execution_count": null,
   "id": "1f435984-51cf-4355-830e-49e80af7d910",
   "metadata": {},
   "outputs": [],
   "source": []
  }
 ],
 "metadata": {
  "kernelspec": {
   "display_name": "Python 3 (ipykernel)",
   "language": "python",
   "name": "python3"
  },
  "language_info": {
   "codemirror_mode": {
    "name": "ipython",
    "version": 3
   },
   "file_extension": ".py",
   "mimetype": "text/x-python",
   "name": "python",
   "nbconvert_exporter": "python",
   "pygments_lexer": "ipython3",
   "version": "3.12.1"
  }
 },
 "nbformat": 4,
 "nbformat_minor": 5
}
