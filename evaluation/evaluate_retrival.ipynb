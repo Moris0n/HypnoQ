{
 "cells": [
  {
   "cell_type": "markdown",
   "id": "69be3423-ee09-478a-b7c0-e697b043a01f",
   "metadata": {},
   "source": [
    "# Notebook For Q&A Retrival Evaluation "
   ]
  },
  {
   "cell_type": "markdown",
   "id": "225fce0c-447d-4017-acdd-5eb24c6aa4fc",
   "metadata": {},
   "source": [
    "## Evaluate vector search"
   ]
  },
  {
   "cell_type": "code",
   "execution_count": 7,
   "id": "4c38a2d7-8f05-4d26-b408-dcd7458dacc2",
   "metadata": {},
   "outputs": [],
   "source": [
    "import sys\n",
    "sys.path.append('../models/src')\n",
    "\n",
    "# Now you can import hypno\n",
    "from hypnoq_chain import retriver\n",
    "from eval_functions import hit_rate, mrr\n",
    "\n",
    "import os\n",
    "from tqdm import tqdm\n",
    "import pandas as pd\n"
   ]
  },
  {
   "cell_type": "code",
   "execution_count": 8,
   "id": "883e65af-1700-46b1-8ad6-dee9d2a6a3b4",
   "metadata": {},
   "outputs": [
    {
     "data": {
      "text/plain": [
       "{'doc_id': '34cdb806-9fd2-4b74-895a-134bfdb7bcac',\n",
       " 'orig_quest': 'What is hypnosis and is it safe?',\n",
       " 'questions': 'Can you explain how hypnosis can be used to make positive suggestions to my unconscious mind?'}"
      ]
     },
     "execution_count": 8,
     "metadata": {},
     "output_type": "execute_result"
    }
   ],
   "source": [
    "df_ground_truth = pd.read_csv('ground-truth-data.csv')\n",
    "ground_truth = df_ground_truth.to_dict(orient='records')\n",
    "ground_truth[2]"
   ]
  },
  {
   "cell_type": "code",
   "execution_count": 9,
   "id": "1be7f9e7-2b06-43ba-bfb4-e878e351fd60",
   "metadata": {},
   "outputs": [],
   "source": [
    "def evaluate(ground_truth, retriver):\n",
    "    relevance_total = []\n",
    "\n",
    "    for q in tqdm(ground_truth):\n",
    "        doc_id = q['doc_id']\n",
    "        results = retriver.invoke(q['questions'])\n",
    "        relevance = [d.metadata.get('doc_id', None) == doc_id for d in results]\n",
    "        relevance_total.append(relevance)\n",
    "\n",
    "    return {\n",
    "        'hit_rate': hit_rate(relevance_total),\n",
    "        'mrr': mrr(relevance_total),\n",
    "    }"
   ]
  },
  {
   "cell_type": "code",
   "execution_count": 10,
   "id": "7c1af270-644b-4098-abb5-8535df8da795",
   "metadata": {},
   "outputs": [
    {
     "name": "stderr",
     "output_type": "stream",
     "text": [
      " 32%|██████████████████████████████████████████████▏                                                                                               | 26/80 [00:04<00:09,  5.45it/s]No relevant docs were retrieved using the relevance score threshold 0.5\n",
      "100%|██████████████████████████████████████████████████████████████████████████████████████████████████████████████████████████████████████████████| 80/80 [00:13<00:00,  5.77it/s]\n"
     ]
    },
    {
     "data": {
      "text/plain": [
       "{'hit_rate': 0.95, 'mrr': 0.764375}"
      ]
     },
     "execution_count": 10,
     "metadata": {},
     "output_type": "execute_result"
    }
   ],
   "source": [
    "evaluate(ground_truth, retriver)"
   ]
  },
  {
   "cell_type": "markdown",
   "id": "4a0b5a48-45a5-49b0-baa4-7aedbb75078d",
   "metadata": {},
   "source": [
    "## Retrival Evaluation Metrics:     \n",
    "----------------------------  \n",
    "\n",
    "Hit Rate : 95%  \n",
    "MRR      : 0.764"
   ]
  },
  {
   "cell_type": "code",
   "execution_count": null,
   "id": "846ff2b6-c4e4-4c3c-87a8-4c80a1d2ee3d",
   "metadata": {},
   "outputs": [],
   "source": []
  }
 ],
 "metadata": {
  "kernelspec": {
   "display_name": "Python 3 (ipykernel)",
   "language": "python",
   "name": "python3"
  },
  "language_info": {
   "codemirror_mode": {
    "name": "ipython",
    "version": 3
   },
   "file_extension": ".py",
   "mimetype": "text/x-python",
   "name": "python",
   "nbconvert_exporter": "python",
   "pygments_lexer": "ipython3",
   "version": "3.12.1"
  }
 },
 "nbformat": 4,
 "nbformat_minor": 5
}
