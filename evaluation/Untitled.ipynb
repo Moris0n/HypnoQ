{
 "cells": [
  {
   "cell_type": "code",
   "execution_count": 1,
   "id": "875f045a-2947-416a-bed8-8eb609144343",
   "metadata": {},
   "outputs": [
    {
     "data": {
      "text/plain": [
       "True"
      ]
     },
     "execution_count": 1,
     "metadata": {},
     "output_type": "execute_result"
    }
   ],
   "source": [
    "import sys\n",
    "sys.path.append('../models/src')\n",
    "\n",
    "from dotenv import load_dotenv\n",
    "\n",
    "load_dotenv()"
   ]
  },
  {
   "cell_type": "code",
   "execution_count": 2,
   "id": "86108e35-feaf-42a4-99fd-4239aa23313f",
   "metadata": {},
   "outputs": [
    {
     "name": "stdout",
     "output_type": "stream",
     "text": [
      "env: INDEX_NAME=/workspaces/HypnoQ/hypnoq_index\n",
      "env: EMBEDDING_MODEL=BAAI/bge-base-en-v1.5\n"
     ]
    }
   ],
   "source": [
    "%env INDEX_NAME=/workspaces/HypnoQ/hypnoq_index\n",
    "%env EMBEDDING_MODEL=BAAI/bge-base-en-v1.5"
   ]
  },
  {
   "cell_type": "code",
   "execution_count": 3,
   "id": "c4ee7f1a-e3a8-40cf-8805-e948df955a51",
   "metadata": {},
   "outputs": [
    {
     "name": "stdout",
     "output_type": "stream",
     "text": [
      "env: TOKENIZERS_PARALLELISM=false\n"
     ]
    }
   ],
   "source": [
    "%env TOKENIZERS_PARALLELISM=false"
   ]
  },
  {
   "cell_type": "code",
   "execution_count": 4,
   "id": "1d36cbde-ca80-4182-84c1-d78da727b286",
   "metadata": {},
   "outputs": [
    {
     "name": "stdout",
     "output_type": "stream",
     "text": [
      "cat: /workspaces/HypnoQ/hypnoq_index: Is a directory\n"
     ]
    }
   ],
   "source": [
    "!cat $INDEX_NAME"
   ]
  },
  {
   "cell_type": "code",
   "execution_count": 5,
   "id": "40cdd2fe-d177-4093-9628-735ad0a21ee8",
   "metadata": {},
   "outputs": [
    {
     "name": "stdout",
     "output_type": "stream",
     "text": [
      "cat: BAAI/bge-base-en-v1.5: No such file or directory\n"
     ]
    }
   ],
   "source": [
    "!cat $EMBEDDING_MODEL"
   ]
  },
  {
   "cell_type": "code",
   "execution_count": 6,
   "id": "53f60909-434d-4ca3-b4cc-3849e622aec2",
   "metadata": {},
   "outputs": [
    {
     "name": "stderr",
     "output_type": "stream",
     "text": [
      "/home/codespace/.cache/pypoetry/virtualenvs/models-io_XXpQJ-py3.12/lib/python3.12/site-packages/tqdm/auto.py:21: TqdmWarning: IProgress not found. Please update jupyter and ipywidgets. See https://ipywidgets.readthedocs.io/en/stable/user_install.html\n",
      "  from .autonotebook import tqdm as notebook_tqdm\n",
      "Fetching 5 files: 100%|████████████████████████████████████████████████████████████████████████████████████████████████████████████████| 5/5 [00:00<00:00, 14593.96it/s]\n"
     ]
    }
   ],
   "source": [
    "from chains.hypnoq_chain import qna_vector_chain\n",
    "from chains.rag import rag"
   ]
  },
  {
   "cell_type": "code",
   "execution_count": 7,
   "id": "e2cf445c-845b-4fc2-9b7f-2502424da6f7",
   "metadata": {},
   "outputs": [
    {
     "data": {
      "text/plain": [
       "{'answer': \"Yes, hypnotherapy is safe. According to the provided document, hypnosis is a natural state that we all go in and out of many times during our day. It's similar to daydreaming and often heightens the awareness of the senses. The document also mentions that you will not be 'under the control' of the hypnotherapist, lose control of your mind or body, or go into a deep sleep. Instead, you will be in control and the hypnotherapist will act as a facilitator and guide.\",\n",
       " 'model_name': 'mixtral-8x7b-32768',\n",
       " 'qna_time': 0.343110608,\n",
       " 'eval_time': 0.129478576,\n",
       " 'total_time': 1.1541473865509033,\n",
       " 'relevance': 'RELEVANT',\n",
       " 'relevance_explanation': 'The generated answer directly addresses the question by stating that hypnotherapy is safe and providing details from the document to support this claim. It also dispels common misconceptions about hypnotherapy, further emphasizing its safety.',\n",
       " 'completion_tokens': 117,\n",
       " 'prompt_tokens': 1712,\n",
       " 'total_tokens': 1829,\n",
       " 'eval_prompt_tokens': 314,\n",
       " 'eval_completion_tokens': 70,\n",
       " 'eval_total_tokens': 384}"
      ]
     },
     "execution_count": 7,
     "metadata": {},
     "output_type": "execute_result"
    }
   ],
   "source": [
    "rag('Is hypnotherapy safe?')"
   ]
  },
  {
   "cell_type": "code",
   "execution_count": 3,
   "id": "21f96907-3962-408a-8d9e-02918b11cc69",
   "metadata": {},
   "outputs": [
    {
     "data": {
      "text/plain": [
       "{'answer': \"Yes, hypnotherapy is safe. According to the provided document, hypnosis is a natural and safe state that we all go in and out of many times during our day. It's similar to daydreaming and often heightens the awareness of the senses. The document also mentions that you will not lose control of your mind or body, and you won't be going into a deep sleep during hypnotherapy. You will be in control, and the hypnotherapist will only act as a facilitator and guide.\",\n",
       " 'model_name': 'mixtral-8x7b-32768',\n",
       " 'qna_time': 0.256216058,\n",
       " 'eval_time': 0.137271699,\n",
       " 'total_time': 1.1558735370635986,\n",
       " 'relevance': 'RELEVANT',\n",
       " 'relevance_explanation': 'The generated answer directly addresses the question by stating that hypnotherapy is safe and providing details about the nature of hypnosis. It also dispels potential concerns about loss of control or going into a deep sleep, which are relevant to the question of safety.',\n",
       " 'completion_tokens': 114,\n",
       " 'prompt_tokens': 1719,\n",
       " 'total_tokens': 1833,\n",
       " 'eval_prompt_tokens': 311,\n",
       " 'eval_completion_tokens': 77,\n",
       " 'eval_total_tokens': 388}"
      ]
     },
     "execution_count": 3,
     "metadata": {},
     "output_type": "execute_result"
    }
   ],
   "source": [
    "res"
   ]
  },
  {
   "cell_type": "code",
   "execution_count": null,
   "id": "5c523d43-1a60-4a24-b96e-e2815317f0a9",
   "metadata": {},
   "outputs": [],
   "source": []
  },
  {
   "cell_type": "code",
   "execution_count": 6,
   "id": "c6646d6e-ab65-4bd2-9308-a43fdfaa1d24",
   "metadata": {},
   "outputs": [],
   "source": [
    "from analytics import db, db_prep"
   ]
  },
  {
   "cell_type": "code",
   "execution_count": 9,
   "id": "233b781e-6b69-49a0-995d-cb0cff3e6fda",
   "metadata": {},
   "outputs": [],
   "source": [
    "from analytics.db import init_db"
   ]
  },
  {
   "cell_type": "code",
   "execution_count": 10,
   "id": "d175a083-c1b4-4dd1-859c-08ae68221a73",
   "metadata": {},
   "outputs": [],
   "source": [
    "init_db()"
   ]
  },
  {
   "cell_type": "code",
   "execution_count": null,
   "id": "e917f57e-fa14-4d91-b75a-c68bb67558fe",
   "metadata": {},
   "outputs": [],
   "source": []
  }
 ],
 "metadata": {
  "kernelspec": {
   "display_name": "Python 3 (ipykernel)",
   "language": "python",
   "name": "python3"
  },
  "language_info": {
   "codemirror_mode": {
    "name": "ipython",
    "version": 3
   },
   "file_extension": ".py",
   "mimetype": "text/x-python",
   "name": "python",
   "nbconvert_exporter": "python",
   "pygments_lexer": "ipython3",
   "version": "3.12.1"
  }
 },
 "nbformat": 4,
 "nbformat_minor": 5
}
