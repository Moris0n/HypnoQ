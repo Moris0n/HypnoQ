{
 "cells": [
  {
   "cell_type": "code",
   "execution_count": 3,
   "id": "875f045a-2947-416a-bed8-8eb609144343",
   "metadata": {},
   "outputs": [],
   "source": [
    "import sys\n",
    "sys.path.append('../models/src')\n",
    "\n",
    "# Now you can import hypno\n",
    "#from chains.rag import rag"
   ]
  },
  {
   "cell_type": "code",
   "execution_count": 2,
   "id": "e2cf445c-845b-4fc2-9b7f-2502424da6f7",
   "metadata": {},
   "outputs": [],
   "source": [
    "res = rag('Is hypnotherapy safe?')"
   ]
  },
  {
   "cell_type": "code",
   "execution_count": 3,
   "id": "21f96907-3962-408a-8d9e-02918b11cc69",
   "metadata": {},
   "outputs": [
    {
     "data": {
      "text/plain": [
       "{'answer': \"Yes, hypnotherapy is safe. According to the provided document, hypnosis is a natural and safe state that we all go in and out of many times during our day. It's similar to daydreaming and often heightens the awareness of the senses. The document also mentions that you will not lose control of your mind or body, and you won't be going into a deep sleep during hypnotherapy. You will be in control, and the hypnotherapist will only act as a facilitator and guide.\",\n",
       " 'model_name': 'mixtral-8x7b-32768',\n",
       " 'qna_time': 0.256216058,\n",
       " 'eval_time': 0.137271699,\n",
       " 'total_time': 1.1558735370635986,\n",
       " 'relevance': 'RELEVANT',\n",
       " 'relevance_explanation': 'The generated answer directly addresses the question by stating that hypnotherapy is safe and providing details about the nature of hypnosis. It also dispels potential concerns about loss of control or going into a deep sleep, which are relevant to the question of safety.',\n",
       " 'completion_tokens': 114,\n",
       " 'prompt_tokens': 1719,\n",
       " 'total_tokens': 1833,\n",
       " 'eval_prompt_tokens': 311,\n",
       " 'eval_completion_tokens': 77,\n",
       " 'eval_total_tokens': 388}"
      ]
     },
     "execution_count": 3,
     "metadata": {},
     "output_type": "execute_result"
    }
   ],
   "source": [
    "res"
   ]
  },
  {
   "cell_type": "code",
   "execution_count": 6,
   "id": "c6646d6e-ab65-4bd2-9308-a43fdfaa1d24",
   "metadata": {},
   "outputs": [],
   "source": [
    "from analytics import db, db_prep"
   ]
  },
  {
   "cell_type": "code",
   "execution_count": 9,
   "id": "233b781e-6b69-49a0-995d-cb0cff3e6fda",
   "metadata": {},
   "outputs": [],
   "source": [
    "from analytics.db import init_db"
   ]
  },
  {
   "cell_type": "code",
   "execution_count": 10,
   "id": "d175a083-c1b4-4dd1-859c-08ae68221a73",
   "metadata": {},
   "outputs": [],
   "source": [
    "init_db()"
   ]
  },
  {
   "cell_type": "code",
   "execution_count": null,
   "id": "e917f57e-fa14-4d91-b75a-c68bb67558fe",
   "metadata": {},
   "outputs": [],
   "source": []
  }
 ],
 "metadata": {
  "kernelspec": {
   "display_name": "Python 3 (ipykernel)",
   "language": "python",
   "name": "python3"
  },
  "language_info": {
   "codemirror_mode": {
    "name": "ipython",
    "version": 3
   },
   "file_extension": ".py",
   "mimetype": "text/x-python",
   "name": "python",
   "nbconvert_exporter": "python",
   "pygments_lexer": "ipython3",
   "version": "3.12.1"
  }
 },
 "nbformat": 4,
 "nbformat_minor": 5
}
