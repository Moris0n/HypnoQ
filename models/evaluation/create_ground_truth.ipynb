{
 "cells": [
  {
   "cell_type": "markdown",
   "id": "07a1f9aa-46e0-4616-8433-e572c5b0ef2e",
   "metadata": {},
   "source": [
    "# Notebook For Q&A OffLine Evaluation - Part 1"
   ]
  },
  {
   "cell_type": "markdown",
   "id": "e93a8552-79ae-4acc-afb3-7ae9ee71fac6",
   "metadata": {},
   "source": [
    "## Step1 : create set of possible questions for each Q&A (aka Ground truth)"
   ]
  },
  {
   "cell_type": "code",
   "execution_count": 17,
   "id": "1cc95b2a-fa1c-490e-b9ac-bb75afe7bb86",
   "metadata": {},
   "outputs": [],
   "source": [
    "import os\n",
    "\n",
    "from langchain_community.vectorstores import FAISS\n",
    "from langchain_groq import ChatGroq \n",
    "from langchain_community.embeddings.fastembed import FastEmbedEmbeddings\n",
    "from langchain.vectorstores import FAISS\n",
    "from langchain.chains import RetrievalQA\n",
    "from langchain.prompts import (\n",
    "    PromptTemplate,\n",
    "    SystemMessagePromptTemplate,\n",
    "    HumanMessagePromptTemplate,\n",
    "    ChatPromptTemplate,\n",
    ")\n",
    "\n",
    "from langchain_core.output_parsers import StrOutputParser\n",
    "from langchain.chains import RetrievalQA\n",
    "from langchain.prompts import (\n",
    "    PromptTemplate,\n",
    "    SystemMessagePromptTemplate,\n",
    "    HumanMessagePromptTemplate,\n",
    "    ChatPromptTemplate,\n",
    ")\n",
    "\n",
    "from langchain_groq import ChatGroq "
   ]
  },
  {
   "cell_type": "markdown",
   "id": "463b2ca1-015b-4c30-b554-7edbd5ab4708",
   "metadata": {},
   "source": [
    "### loading the q&a vector database"
   ]
  },
  {
   "cell_type": "code",
   "execution_count": 19,
   "id": "06b15cae-0716-4ea5-b294-7d149bdac49a",
   "metadata": {},
   "outputs": [
    {
     "data": {
      "application/vnd.jupyter.widget-view+json": {
       "model_id": "44f1b902b8fa4998b2eee58646eac8b2",
       "version_major": 2,
       "version_minor": 0
      },
      "text/plain": [
       "Fetching 5 files:   0%|          | 0/5 [00:00<?, ?it/s]"
      ]
     },
     "metadata": {},
     "output_type": "display_data"
    },
    {
     "data": {
      "application/vnd.jupyter.widget-view+json": {
       "model_id": "0ef30fb02f634faeae95f611b73475bf",
       "version_major": 2,
       "version_minor": 0
      },
      "text/plain": [
       "tokenizer.json:   0%|          | 0.00/711k [00:00<?, ?B/s]"
      ]
     },
     "metadata": {},
     "output_type": "display_data"
    },
    {
     "data": {
      "application/vnd.jupyter.widget-view+json": {
       "model_id": "6a9c27215d4e4c28a3dd93909e1908c5",
       "version_major": 2,
       "version_minor": 0
      },
      "text/plain": [
       "special_tokens_map.json:   0%|          | 0.00/695 [00:00<?, ?B/s]"
      ]
     },
     "metadata": {},
     "output_type": "display_data"
    },
    {
     "data": {
      "application/vnd.jupyter.widget-view+json": {
       "model_id": "e307313bda5b4c6aaf0bc9f78b3cc85c",
       "version_major": 2,
       "version_minor": 0
      },
      "text/plain": [
       "config.json:   0%|          | 0.00/740 [00:00<?, ?B/s]"
      ]
     },
     "metadata": {},
     "output_type": "display_data"
    },
    {
     "data": {
      "application/vnd.jupyter.widget-view+json": {
       "model_id": "337cfacf9a8249a6bbc44aaf1f52f4e2",
       "version_major": 2,
       "version_minor": 0
      },
      "text/plain": [
       "tokenizer_config.json:   0%|          | 0.00/1.24k [00:00<?, ?B/s]"
      ]
     },
     "metadata": {},
     "output_type": "display_data"
    },
    {
     "data": {
      "application/vnd.jupyter.widget-view+json": {
       "model_id": "03cb7c26b44f4586b5b16b012a34fab5",
       "version_major": 2,
       "version_minor": 0
      },
      "text/plain": [
       "model_optimized.onnx:   0%|          | 0.00/218M [00:00<?, ?B/s]"
      ]
     },
     "metadata": {},
     "output_type": "display_data"
    }
   ],
   "source": [
    "# File paths and other configurations\n",
    "EMBEDDING_MODEL =  os.getenv(\"EMBEDDING_MODEL\")\n",
    "LLM_MODEL = os.getenv(\"LLM_MODEL\")\n",
    "INDEX_NAME = os.getenv(\"INDEX_NAME\")\n",
    "\n",
    "embed_model = FastEmbedEmbeddings(model_name=EMBEDDING_MODEL)\n",
    "\n",
    "new_vector_store = FAISS.load_local(\n",
    "    INDEX_NAME, embed_model, allow_dangerous_deserialization=True\n",
    ")\n",
    "\n",
    "# Access the document store\n",
    "stored_docs = new_vector_store.docstore._dict"
   ]
  },
  {
   "cell_type": "markdown",
   "id": "c7f8c70e-41b0-4fe0-87eb-89da05a3583c",
   "metadata": {},
   "source": [
    "### a prompt for emulating test questions"
   ]
  },
  {
   "cell_type": "code",
   "execution_count": 46,
   "id": "d91a3f91-1888-4270-a53c-847e6e8640f8",
   "metadata": {},
   "outputs": [],
   "source": [
    "# File paths and other configurations\n",
    "LLM_MODEL = os.getenv(\"LLM_MODEL\")\n",
    "\n",
    "# Initialize the Groq LLM\n",
    "groq_llm = ChatGroq(\n",
    "    model=LLM_MODEL,\n",
    "    temperature=0,\n",
    "    max_tokens=None,\n",
    "    timeout=None,\n",
    "    max_retries=2\n",
    ")\n",
    "\n",
    "emulation_prompt = \"\"\"You emulate a potential client who is considering hypnotherapy services.\n",
    "Formulate 5 questions this client might ask based on a FAQ record.\n",
    "The record should contain the answer to the questions, and the questions should be complete and not too short.\n",
    "If possible, use as few words as possible from the record.\n",
    "\n",
    "The record:\n",
    "\n",
    "question: {question}\n",
    "answer: {text}\n",
    "\n",
    "Provide the output as a valid JSON array without using code blocks, extra characters like asterisks (*), or numbering. The format should be exactly:\n",
    "\n",
    "[\"question1\", \"question2\", ..., \"question5\"]\"\"\"\n",
    "\n",
    "\n",
    "\n",
    "emulation_system_prompt = SystemMessagePromptTemplate(\n",
    "    prompt=PromptTemplate(input_variables=[\"question\",\"text\"], template=emulation_prompt)\n",
    ")\n",
    "\n",
    "messages = [emulation_system_prompt]\n",
    "\n",
    "emulation_tamplate = ChatPromptTemplate(\n",
    "    input_variables=[\"question\",\"text\"], messages=messages\n",
    ")\n",
    "\n",
    "output_parser = StrOutputParser()\n",
    "\n",
    "emulation_chain = emulation_tamplate | groq_llm | output_parser\n"
   ]
  },
  {
   "cell_type": "markdown",
   "id": "b0b58e55-4cc0-4733-ba82-cd89eac90bbb",
   "metadata": {},
   "source": [
    "### testing the prompt"
   ]
  },
  {
   "cell_type": "code",
   "execution_count": 44,
   "id": "5ef88985-4d5c-4650-97d5-65419e5120b1",
   "metadata": {},
   "outputs": [
    {
     "name": "stdout",
     "output_type": "stream",
     "text": [
      "[\"Can hypnotherapy work for me?\", \n",
      "\"What is the role of the therapist in cognitive hypnotherapy?\", \n",
      "\"What are the common traits of clients who have made positive changes through hypnotherapy?\", \n",
      "\"How does hypnotherapy lead to change?\", \n",
      "\"Is hypnotherapy a quick fix or a process of mental reprogramming?\"]\n"
     ]
    }
   ],
   "source": [
    "answer = \"\"\"Everyone is capable of change. Whether you will effect that change is largely down to you. Cognitive Hypnotherapy isn’t a miracle pill.\n",
    "It’s a process of mental reprogramming. Our sessions will guide you to learn how to think, behave, and feel differently. \n",
    "\n",
    "Since I began practicing as a therapist, I’ve noticed some common traits among the clients who have made the most positive changes in their lives.\n",
    "They are curious, willing to learn about themselves, and being prepared to put in the work. I can guide you. \n",
    "And I will support you always. But nobody can do it for you.\"\"\"\n",
    "\n",
    "reply = emulation_chain.invoke(dict(question='Q: Will hypnotherapy work for Me?',text=answer))\n",
    "print(reply)"
   ]
  },
  {
   "cell_type": "markdown",
   "id": "0baa72a5-00d4-4eaa-b07d-64440257a203",
   "metadata": {},
   "source": [
    "### creating the ground truth dataset for testing the chatbot"
   ]
  },
  {
   "cell_type": "code",
   "execution_count": 48,
   "id": "61c3f0c5-8445-41ab-b9c2-41f9d22b39e5",
   "metadata": {},
   "outputs": [
    {
     "name": "stderr",
     "output_type": "stream",
     "text": [
      "Processing Documents: 100%|████████████████████████████████████████████████████████████████████████████████████████████████████████████████████████| 17/17 [00:23<00:00,  1.35s/it]\n"
     ]
    }
   ],
   "source": [
    "import ast\n",
    "from tqdm import tqdm  # Import tqdm\n",
    "\n",
    "val_dict = dict(doc_id=[], questions=[])\n",
    "\n",
    "# Iterate over the documents with a progress bar\n",
    "for doc_id, doc in tqdm(stored_docs.items(), desc=\"Processing Documents\"):\n",
    "\n",
    "    quest, answer = doc.page_content.split('\\n', 1)\n",
    "    reply = emulation_chain.invoke(dict(question=quest, text=answer))\n",
    "\n",
    "    val_dict['doc_id'].append(doc_id)\n",
    "    val_dict['questions'].append(ast.literal_eval(reply))\n",
    "   "
   ]
  },
  {
   "cell_type": "code",
   "execution_count": 56,
   "id": "67f725b7-489a-4e5a-bc1c-bc75a0a4fe95",
   "metadata": {},
   "outputs": [
    {
     "data": {
      "text/html": [
       "<div>\n",
       "<style scoped>\n",
       "    .dataframe tbody tr th:only-of-type {\n",
       "        vertical-align: middle;\n",
       "    }\n",
       "\n",
       "    .dataframe tbody tr th {\n",
       "        vertical-align: top;\n",
       "    }\n",
       "\n",
       "    .dataframe thead th {\n",
       "        text-align: right;\n",
       "    }\n",
       "</style>\n",
       "<table border=\"1\" class=\"dataframe\">\n",
       "  <thead>\n",
       "    <tr style=\"text-align: right;\">\n",
       "      <th></th>\n",
       "      <th>doc_id</th>\n",
       "      <th>questions</th>\n",
       "    </tr>\n",
       "  </thead>\n",
       "  <tbody>\n",
       "    <tr>\n",
       "      <th>0</th>\n",
       "      <td>b76e60a1-3332-436d-ad4c-08aff5c83cad</td>\n",
       "      <td>What is hypnosis in your practice?</td>\n",
       "    </tr>\n",
       "    <tr>\n",
       "      <th>1</th>\n",
       "      <td>b76e60a1-3332-436d-ad4c-08aff5c83cad</td>\n",
       "      <td>How does hypnosis make positive suggestions to...</td>\n",
       "    </tr>\n",
       "    <tr>\n",
       "      <th>2</th>\n",
       "      <td>b76e60a1-3332-436d-ad4c-08aff5c83cad</td>\n",
       "      <td>Is hypnotherapy safe?</td>\n",
       "    </tr>\n",
       "    <tr>\n",
       "      <th>3</th>\n",
       "      <td>b76e60a1-3332-436d-ad4c-08aff5c83cad</td>\n",
       "      <td>Can you give examples of when a person might e...</td>\n",
       "    </tr>\n",
       "    <tr>\n",
       "      <th>4</th>\n",
       "      <td>b76e60a1-3332-436d-ad4c-08aff5c83cad</td>\n",
       "      <td>How does hypnotherapy compare to other tools a...</td>\n",
       "    </tr>\n",
       "    <tr>\n",
       "      <th>...</th>\n",
       "      <td>...</td>\n",
       "      <td>...</td>\n",
       "    </tr>\n",
       "    <tr>\n",
       "      <th>80</th>\n",
       "      <td>7e902e07-75a1-4def-aac0-e832e5e1df80</td>\n",
       "      <td>Can you tell me if your practice is governed b...</td>\n",
       "    </tr>\n",
       "    <tr>\n",
       "      <th>81</th>\n",
       "      <td>7e902e07-75a1-4def-aac0-e832e5e1df80</td>\n",
       "      <td>What measures do you have in place to ensure t...</td>\n",
       "    </tr>\n",
       "    <tr>\n",
       "      <th>82</th>\n",
       "      <td>7e902e07-75a1-4def-aac0-e832e5e1df80</td>\n",
       "      <td>Are there any medical conditions that would pr...</td>\n",
       "    </tr>\n",
       "    <tr>\n",
       "      <th>83</th>\n",
       "      <td>7e902e07-75a1-4def-aac0-e832e5e1df80</td>\n",
       "      <td>Could you explain why certain conditions such ...</td>\n",
       "    </tr>\n",
       "    <tr>\n",
       "      <th>84</th>\n",
       "      <td>7e902e07-75a1-4def-aac0-e832e5e1df80</td>\n",
       "      <td>What professional bodies govern your practice ...</td>\n",
       "    </tr>\n",
       "  </tbody>\n",
       "</table>\n",
       "<p>85 rows × 2 columns</p>\n",
       "</div>"
      ],
      "text/plain": [
       "                                  doc_id  \\\n",
       "0   b76e60a1-3332-436d-ad4c-08aff5c83cad   \n",
       "1   b76e60a1-3332-436d-ad4c-08aff5c83cad   \n",
       "2   b76e60a1-3332-436d-ad4c-08aff5c83cad   \n",
       "3   b76e60a1-3332-436d-ad4c-08aff5c83cad   \n",
       "4   b76e60a1-3332-436d-ad4c-08aff5c83cad   \n",
       "..                                   ...   \n",
       "80  7e902e07-75a1-4def-aac0-e832e5e1df80   \n",
       "81  7e902e07-75a1-4def-aac0-e832e5e1df80   \n",
       "82  7e902e07-75a1-4def-aac0-e832e5e1df80   \n",
       "83  7e902e07-75a1-4def-aac0-e832e5e1df80   \n",
       "84  7e902e07-75a1-4def-aac0-e832e5e1df80   \n",
       "\n",
       "                                            questions  \n",
       "0                  What is hypnosis in your practice?  \n",
       "1   How does hypnosis make positive suggestions to...  \n",
       "2                               Is hypnotherapy safe?  \n",
       "3   Can you give examples of when a person might e...  \n",
       "4   How does hypnotherapy compare to other tools a...  \n",
       "..                                                ...  \n",
       "80  Can you tell me if your practice is governed b...  \n",
       "81  What measures do you have in place to ensure t...  \n",
       "82  Are there any medical conditions that would pr...  \n",
       "83  Could you explain why certain conditions such ...  \n",
       "84  What professional bodies govern your practice ...  \n",
       "\n",
       "[85 rows x 2 columns]"
      ]
     },
     "execution_count": 56,
     "metadata": {},
     "output_type": "execute_result"
    }
   ],
   "source": [
    "import pandas as pd\n",
    "\n",
    "df = pd.DataFrame.from_dict(val_dict)\n",
    "\n",
    "# Explode the 'questions' column to create a row for each question\n",
    "df_ground_truth = df.explode('questions')\n",
    "\n",
    "# Reset the index if needed\n",
    "df_ground_truth.reset_index(drop=True, inplace=True)\n",
    "\n",
    "df_ground_truth"
   ]
  },
  {
   "cell_type": "code",
   "execution_count": 57,
   "id": "2354dbc7-1fce-4b9f-abfa-1e94a61fd051",
   "metadata": {},
   "outputs": [],
   "source": [
    "df_ground_truth.to_csv('ground-truth-data.csv', index=False)"
   ]
  }
 ],
 "metadata": {
  "kernelspec": {
   "display_name": "Python 3 (ipykernel)",
   "language": "python",
   "name": "python3"
  },
  "language_info": {
   "codemirror_mode": {
    "name": "ipython",
    "version": 3
   },
   "file_extension": ".py",
   "mimetype": "text/x-python",
   "name": "python",
   "nbconvert_exporter": "python",
   "pygments_lexer": "ipython3",
   "version": "3.12.1"
  }
 },
 "nbformat": 4,
 "nbformat_minor": 5
}
