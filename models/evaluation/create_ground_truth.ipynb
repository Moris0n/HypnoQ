{
 "cells": [
  {
   "cell_type": "markdown",
   "id": "07a1f9aa-46e0-4616-8433-e572c5b0ef2e",
   "metadata": {},
   "source": [
    "# Notebook For Q&A OffLine Evaluation - Part 1"
   ]
  },
  {
   "cell_type": "markdown",
   "id": "e93a8552-79ae-4acc-afb3-7ae9ee71fac6",
   "metadata": {},
   "source": [
    "## Step1 : create set of possible questions for each Q&A (aka Ground truth)"
   ]
  },
  {
   "cell_type": "code",
   "execution_count": 5,
   "id": "1cc95b2a-fa1c-490e-b9ac-bb75afe7bb86",
   "metadata": {},
   "outputs": [],
   "source": [
    "import os\n",
    "\n",
    "from langchain_community.vectorstores import FAISS\n",
    "from langchain_groq import ChatGroq \n",
    "from langchain_community.embeddings.fastembed import FastEmbedEmbeddings\n",
    "from langchain.vectorstores import FAISS\n",
    "from langchain.chains import RetrievalQA\n",
    "from langchain.prompts import (\n",
    "    PromptTemplate,\n",
    "    SystemMessagePromptTemplate,\n",
    "    HumanMessagePromptTemplate,\n",
    "    ChatPromptTemplate,\n",
    ")\n",
    "\n",
    "from langchain_core.output_parsers import StrOutputParser\n",
    "from langchain.chains import RetrievalQA\n",
    "from langchain.prompts import (\n",
    "    PromptTemplate,\n",
    "    SystemMessagePromptTemplate,\n",
    "    HumanMessagePromptTemplate,\n",
    "    ChatPromptTemplate,\n",
    ")\n",
    "\n",
    "from langchain_groq import ChatGroq "
   ]
  },
  {
   "cell_type": "markdown",
   "id": "463b2ca1-015b-4c30-b554-7edbd5ab4708",
   "metadata": {},
   "source": [
    "### loading the q&a vector database"
   ]
  },
  {
   "cell_type": "code",
   "execution_count": 6,
   "id": "06b15cae-0716-4ea5-b294-7d149bdac49a",
   "metadata": {},
   "outputs": [
    {
     "name": "stderr",
     "output_type": "stream",
     "text": [
      "Fetching 5 files: 100%|█████████████████████████████████████████████████████████████████████████████████████████████████████████████████████████████████| 5/5 [00:00<00:00, 49344.75it/s]\n"
     ]
    }
   ],
   "source": [
    "# File paths and other configurations\n",
    "EMBEDDING_MODEL =  os.getenv(\"EMBEDDING_MODEL\")\n",
    "LLM_MODEL = os.getenv(\"LLM_MODEL\")\n",
    "INDEX_NAME = os.getenv(\"INDEX_NAME\")\n",
    "\n",
    "embed_model = FastEmbedEmbeddings(model_name=EMBEDDING_MODEL)\n",
    "\n",
    "new_vector_store = FAISS.load_local(\n",
    "    INDEX_NAME, embed_model, allow_dangerous_deserialization=True\n",
    ")\n",
    "\n",
    "# Access the document store\n",
    "stored_docs = new_vector_store.docstore._dict"
   ]
  },
  {
   "cell_type": "markdown",
   "id": "c7f8c70e-41b0-4fe0-87eb-89da05a3583c",
   "metadata": {},
   "source": [
    "### a prompt for emulating test questions"
   ]
  },
  {
   "cell_type": "code",
   "execution_count": 7,
   "id": "d91a3f91-1888-4270-a53c-847e6e8640f8",
   "metadata": {},
   "outputs": [],
   "source": [
    "# File paths and other configurations\n",
    "LLM_MODEL = os.getenv(\"LLM_MODEL\")\n",
    "\n",
    "# Initialize the Groq LLM\n",
    "groq_llm = ChatGroq(\n",
    "    model=LLM_MODEL,\n",
    "    temperature=0,\n",
    "    max_tokens=None,\n",
    "    timeout=None,\n",
    "    max_retries=2\n",
    ")\n",
    "\n",
    "emulation_prompt = \"\"\"You emulate a potential client who is considering hypnotherapy services.\n",
    "Formulate 5 questions this client might ask based on a FAQ record that is provided.\n",
    "The record should contain the answer to the questions, and the questions should be complete and not too short.\n",
    "\n",
    "The record:\n",
    "\n",
    "question: {question}\n",
    "answer: {text}\n",
    "\n",
    "Provide the output as a valid JSON array without using code blocks, extra characters like asterisks (*), or numbering. The format should be exactly:\n",
    "\n",
    "[\"question1\", \"question2\", ..., \"question5\"]\"\"\"\n",
    "\n",
    "\n",
    "\n",
    "emulation_system_prompt = SystemMessagePromptTemplate(\n",
    "    prompt=PromptTemplate(input_variables=[\"question\",\"text\"], template=emulation_prompt)\n",
    ")\n",
    "\n",
    "messages = [emulation_system_prompt]\n",
    "\n",
    "emulation_tamplate = ChatPromptTemplate(\n",
    "    input_variables=[\"question\",\"text\"], messages=messages\n",
    ")\n",
    "\n",
    "output_parser = StrOutputParser()\n",
    "\n",
    "emulation_chain = emulation_tamplate | groq_llm | output_parser\n"
   ]
  },
  {
   "cell_type": "markdown",
   "id": "b0b58e55-4cc0-4733-ba82-cd89eac90bbb",
   "metadata": {},
   "source": [
    "### testing the prompt"
   ]
  },
  {
   "cell_type": "code",
   "execution_count": 8,
   "id": "5ef88985-4d5c-4650-97d5-65419e5120b1",
   "metadata": {},
   "outputs": [
    {
     "name": "stdout",
     "output_type": "stream",
     "text": [
      "[\"Will hypnotherapy work for me even if I'm skeptical about its effectiveness?\", \n",
      "\"How much control will I have during the hypnotherapy sessions?\", \n",
      "\"What is expected from me in terms of effort and commitment for the therapy to be successful?\", \n",
      "\"Can cognitive hypnotherapy help me overcome habits that I've had for many years?\", \n",
      "\"What are the common traits of clients who have achieved positive changes through hypnotherapy?\"]\n"
     ]
    }
   ],
   "source": [
    "answer = \"\"\"Everyone is capable of change. Whether you will effect that change is largely down to you. Cognitive Hypnotherapy isn’t a miracle pill.\n",
    "It’s a process of mental reprogramming. Our sessions will guide you to learn how to think, behave, and feel differently. \n",
    "\n",
    "Since I began practicing as a therapist, I’ve noticed some common traits among the clients who have made the most positive changes in their lives.\n",
    "They are curious, willing to learn about themselves, and being prepared to put in the work. I can guide you. \n",
    "And I will support you always. But nobody can do it for you.\"\"\"\n",
    "\n",
    "reply = emulation_chain.invoke(dict(question='Q: Will hypnotherapy work for Me?',text=answer))\n",
    "print(reply)"
   ]
  },
  {
   "cell_type": "markdown",
   "id": "0baa72a5-00d4-4eaa-b07d-64440257a203",
   "metadata": {},
   "source": [
    "### creating the ground truth dataset for testing the chatbot"
   ]
  },
  {
   "cell_type": "code",
   "execution_count": 17,
   "id": "61c3f0c5-8445-41ab-b9c2-41f9d22b39e5",
   "metadata": {},
   "outputs": [
    {
     "name": "stderr",
     "output_type": "stream",
     "text": [
      "Processing Documents: 100%|██████████████████████████████████████████████████████████████████████████████████████████████████████████████████████████████| 17/17 [00:20<00:00,  1.19s/it]"
     ]
    },
    {
     "name": "stdout",
     "output_type": "stream",
     "text": [
      "Error parsing the string: unterminated string literal (detected at line 6) (<unknown>, line 6)\n"
     ]
    },
    {
     "name": "stderr",
     "output_type": "stream",
     "text": [
      "\n"
     ]
    }
   ],
   "source": [
    "import ast\n",
    "from tqdm import tqdm  # Import tqdm\n",
    "\n",
    "val_dict = dict(doc_id=[], orig_quest=[], questions=[])\n",
    "\n",
    "# Iterate over the documents with a progress bar\n",
    "for _, doc in tqdm(stored_docs.items(), desc=\"Processing Documents\"):\n",
    "\n",
    "    quest, answer = doc.page_content.split('\\n', 1)\n",
    "    doc_id = doc.metadata.get('doc_id', None)\n",
    "    reply = emulation_chain.invoke(dict(question=quest, text=answer))\n",
    "\n",
    "    try:\n",
    "        # Try to convert the string to an actual list\n",
    "        actual_list = ast.literal_eval(reply)\n",
    "    except (SyntaxError, ValueError) as e:\n",
    "        print(f\"Error parsing the string: {e}\")\n",
    "        continue\n",
    "\n",
    "    val_dict['doc_id'].append(doc_id)\n",
    "    val_dict['orig_quest'].append(quest)\n",
    "    val_dict['questions'].append(actual_list)\n",
    "   "
   ]
  },
  {
   "cell_type": "code",
   "execution_count": 18,
   "id": "67f725b7-489a-4e5a-bc1c-bc75a0a4fe95",
   "metadata": {},
   "outputs": [
    {
     "data": {
      "text/html": [
       "<div>\n",
       "<style scoped>\n",
       "    .dataframe tbody tr th:only-of-type {\n",
       "        vertical-align: middle;\n",
       "    }\n",
       "\n",
       "    .dataframe tbody tr th {\n",
       "        vertical-align: top;\n",
       "    }\n",
       "\n",
       "    .dataframe thead th {\n",
       "        text-align: right;\n",
       "    }\n",
       "</style>\n",
       "<table border=\"1\" class=\"dataframe\">\n",
       "  <thead>\n",
       "    <tr style=\"text-align: right;\">\n",
       "      <th></th>\n",
       "      <th>doc_id</th>\n",
       "      <th>orig_quest</th>\n",
       "      <th>questions</th>\n",
       "    </tr>\n",
       "  </thead>\n",
       "  <tbody>\n",
       "    <tr>\n",
       "      <th>0</th>\n",
       "      <td>34cdb806-9fd2-4b74-895a-134bfdb7bcac</td>\n",
       "      <td>What is hypnosis and is it safe?</td>\n",
       "      <td>What exactly is hypnosis and how does it work?</td>\n",
       "    </tr>\n",
       "    <tr>\n",
       "      <th>1</th>\n",
       "      <td>34cdb806-9fd2-4b74-895a-134bfdb7bcac</td>\n",
       "      <td>What is hypnosis and is it safe?</td>\n",
       "      <td>Is hypnosis a safe procedure?</td>\n",
       "    </tr>\n",
       "    <tr>\n",
       "      <th>2</th>\n",
       "      <td>34cdb806-9fd2-4b74-895a-134bfdb7bcac</td>\n",
       "      <td>What is hypnosis and is it safe?</td>\n",
       "      <td>Can you explain how hypnosis can be used to ma...</td>\n",
       "    </tr>\n",
       "    <tr>\n",
       "      <th>3</th>\n",
       "      <td>34cdb806-9fd2-4b74-895a-134bfdb7bcac</td>\n",
       "      <td>What is hypnosis and is it safe?</td>\n",
       "      <td>Are there any risks associated with going into...</td>\n",
       "    </tr>\n",
       "    <tr>\n",
       "      <th>4</th>\n",
       "      <td>34cdb806-9fd2-4b74-895a-134bfdb7bcac</td>\n",
       "      <td>What is hypnosis and is it safe?</td>\n",
       "      <td>How is hypnosis similar to day-dreaming and ca...</td>\n",
       "    </tr>\n",
       "    <tr>\n",
       "      <th>...</th>\n",
       "      <td>...</td>\n",
       "      <td>...</td>\n",
       "      <td>...</td>\n",
       "    </tr>\n",
       "    <tr>\n",
       "      <th>75</th>\n",
       "      <td>ce3a25a9-cf78-44c3-b0dd-48bb8664c974</td>\n",
       "      <td>Q: I feel quite slightly embarrassed to seek h...</td>\n",
       "      <td>I feel quite slightly embarrassed to seek help...</td>\n",
       "    </tr>\n",
       "    <tr>\n",
       "      <th>76</th>\n",
       "      <td>ce3a25a9-cf78-44c3-b0dd-48bb8664c974</td>\n",
       "      <td>Q: I feel quite slightly embarrassed to seek h...</td>\n",
       "      <td>Will my concerns and fears about seeking help ...</td>\n",
       "    </tr>\n",
       "    <tr>\n",
       "      <th>77</th>\n",
       "      <td>ce3a25a9-cf78-44c3-b0dd-48bb8664c974</td>\n",
       "      <td>Q: I feel quite slightly embarrassed to seek h...</td>\n",
       "      <td>What are some of the barriers that I might pas...</td>\n",
       "    </tr>\n",
       "    <tr>\n",
       "      <th>78</th>\n",
       "      <td>ce3a25a9-cf78-44c3-b0dd-48bb8664c974</td>\n",
       "      <td>Q: I feel quite slightly embarrassed to seek h...</td>\n",
       "      <td>Is it common for people to have reservations o...</td>\n",
       "    </tr>\n",
       "    <tr>\n",
       "      <th>79</th>\n",
       "      <td>ce3a25a9-cf78-44c3-b0dd-48bb8664c974</td>\n",
       "      <td>Q: I feel quite slightly embarrassed to seek h...</td>\n",
       "      <td>Will we discuss any fears or concerns I have a...</td>\n",
       "    </tr>\n",
       "  </tbody>\n",
       "</table>\n",
       "<p>80 rows × 3 columns</p>\n",
       "</div>"
      ],
      "text/plain": [
       "                                  doc_id  \\\n",
       "0   34cdb806-9fd2-4b74-895a-134bfdb7bcac   \n",
       "1   34cdb806-9fd2-4b74-895a-134bfdb7bcac   \n",
       "2   34cdb806-9fd2-4b74-895a-134bfdb7bcac   \n",
       "3   34cdb806-9fd2-4b74-895a-134bfdb7bcac   \n",
       "4   34cdb806-9fd2-4b74-895a-134bfdb7bcac   \n",
       "..                                   ...   \n",
       "75  ce3a25a9-cf78-44c3-b0dd-48bb8664c974   \n",
       "76  ce3a25a9-cf78-44c3-b0dd-48bb8664c974   \n",
       "77  ce3a25a9-cf78-44c3-b0dd-48bb8664c974   \n",
       "78  ce3a25a9-cf78-44c3-b0dd-48bb8664c974   \n",
       "79  ce3a25a9-cf78-44c3-b0dd-48bb8664c974   \n",
       "\n",
       "                                           orig_quest  \\\n",
       "0                    What is hypnosis and is it safe?   \n",
       "1                    What is hypnosis and is it safe?   \n",
       "2                    What is hypnosis and is it safe?   \n",
       "3                    What is hypnosis and is it safe?   \n",
       "4                    What is hypnosis and is it safe?   \n",
       "..                                                ...   \n",
       "75  Q: I feel quite slightly embarrassed to seek h...   \n",
       "76  Q: I feel quite slightly embarrassed to seek h...   \n",
       "77  Q: I feel quite slightly embarrassed to seek h...   \n",
       "78  Q: I feel quite slightly embarrassed to seek h...   \n",
       "79  Q: I feel quite slightly embarrassed to seek h...   \n",
       "\n",
       "                                            questions  \n",
       "0      What exactly is hypnosis and how does it work?  \n",
       "1                       Is hypnosis a safe procedure?  \n",
       "2   Can you explain how hypnosis can be used to ma...  \n",
       "3   Are there any risks associated with going into...  \n",
       "4   How is hypnosis similar to day-dreaming and ca...  \n",
       "..                                                ...  \n",
       "75  I feel quite slightly embarrassed to seek help...  \n",
       "76  Will my concerns and fears about seeking help ...  \n",
       "77  What are some of the barriers that I might pas...  \n",
       "78  Is it common for people to have reservations o...  \n",
       "79  Will we discuss any fears or concerns I have a...  \n",
       "\n",
       "[80 rows x 3 columns]"
      ]
     },
     "execution_count": 18,
     "metadata": {},
     "output_type": "execute_result"
    }
   ],
   "source": [
    "import pandas as pd\n",
    "\n",
    "df = pd.DataFrame.from_dict(val_dict)\n",
    "\n",
    "# Explode the 'questions' column to create a row for each question\n",
    "df_ground_truth = df.explode('questions')\n",
    "\n",
    "# Reset the index if needed\n",
    "df_ground_truth.reset_index(drop=True, inplace=True)\n",
    "\n",
    "df_ground_truth"
   ]
  },
  {
   "cell_type": "code",
   "execution_count": 19,
   "id": "2354dbc7-1fce-4b9f-abfa-1e94a61fd051",
   "metadata": {},
   "outputs": [],
   "source": [
    "df_ground_truth.to_csv('ground-truth-data.csv', index=False)"
   ]
  },
  {
   "cell_type": "code",
   "execution_count": null,
   "id": "0c9b80ed-3034-499c-8d11-623bfebac4e6",
   "metadata": {},
   "outputs": [],
   "source": []
  }
 ],
 "metadata": {
  "kernelspec": {
   "display_name": "Python 3 (ipykernel)",
   "language": "python",
   "name": "python3"
  },
  "language_info": {
   "codemirror_mode": {
    "name": "ipython",
    "version": 3
   },
   "file_extension": ".py",
   "mimetype": "text/x-python",
   "name": "python",
   "nbconvert_exporter": "python",
   "pygments_lexer": "ipython3",
   "version": "3.12.1"
  }
 },
 "nbformat": 4,
 "nbformat_minor": 5
}
