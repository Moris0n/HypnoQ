{
 "cells": [
  {
   "cell_type": "markdown",
   "id": "07a1f9aa-46e0-4616-8433-e572c5b0ef2e",
   "metadata": {},
   "source": [
    "# Notebook For Q&A OffLine Evaluation"
   ]
  },
  {
   "cell_type": "markdown",
   "id": "e93a8552-79ae-4acc-afb3-7ae9ee71fac6",
   "metadata": {},
   "source": [
    "## Step1 : create set of possible questions for each Q&A (aka Ground truth)"
   ]
  },
  {
   "cell_type": "code",
   "execution_count": 4,
   "id": "1cc95b2a-fa1c-490e-b9ac-bb75afe7bb86",
   "metadata": {},
   "outputs": [],
   "source": [
    "import os\n",
    "\n",
    "from langchain.text_splitter import MarkdownHeaderTextSplitter\n",
    "from langchain.document_loaders import DirectoryLoader\n",
    "from langchain_community.document_loaders import TextLoader"
   ]
  },
  {
   "cell_type": "code",
   "execution_count": 5,
   "id": "06b15cae-0716-4ea5-b294-7d149bdac49a",
   "metadata": {},
   "outputs": [],
   "source": [
    "# File paths and other configurations\n",
    "DATA_PATH =  '../../data/markdown_files'\n",
    "\n",
    "# Initialize the document loader\n",
    "loader = DirectoryLoader(DATA_PATH, glob=\"**/*.md\", loader_cls=TextLoader)\n",
    "\n",
    "# Load all markdown files\n",
    "documents = loader.load()\n",
    "\n",
    "# Define headers to split on with labels (e.g., `#`, `##`, `###`)\n",
    "headers_to_split_on = [\n",
    "    (\"#\", \"Header 1\"),\n",
    "    (\"##\", \"Header 2\"),\n",
    "    (\"###\", \"Header 3\"),\n",
    "    (\"####\", \"Header 4\")\n",
    "]\n",
    "\n",
    "# Initialize the MarkdownHeaderTextSplitter\n",
    "splitter = MarkdownHeaderTextSplitter(headers_to_split_on=headers_to_split_on)\n",
    "\n",
    "# Split the documents into smaller chunks and combine headers with their respective text\n",
    "split_documents = []\n",
    "for document in documents:\n",
    "    split_texts = splitter.split_text(document.page_content)\n",
    "    split_documents+=split_texts\n"
   ]
  },
  {
   "cell_type": "code",
   "execution_count": 7,
   "id": "077700f1-bf8a-4679-9789-45f79a6502df",
   "metadata": {},
   "outputs": [
    {
     "data": {
      "text/plain": [
       "Document(metadata={'Header 1': 'Frequently Asked Questions about Daydream Therapy (FAQs)', 'Header 2': 'FAQ', 'Header 4': 'What is hypnosis and is it safe?'}, page_content='During hypnosis I use this state within you to make positive suggestions to your unconscious mind, based on what you tell me you want to achieve. Your unconscious is in a much more receptive position when you are in this relaxed state. Therefore, it is an incredibly effective tool, to take you towards your solution. When combined with other tools and techniques, such as NLP, can make short work of long-standing problems.  \\nAnd yes, it is a safe, and natural state that we all go in and out of many times during our day, perhaps without even knowing it. If you have ever been driving along a road and then ‘come to’ and wondered who was in control of the car for the last five minutes, or been ’miles away’ when someone is trying to talk to you – that’s trance, and we are all very good at it. It’s a little like day-dreaming for some people, but it also often heightens the awareness of the senses too.')"
      ]
     },
     "execution_count": 7,
     "metadata": {},
     "output_type": "execute_result"
    }
   ],
   "source": [
    "split_documents[0]"
   ]
  },
  {
   "cell_type": "code",
   "execution_count": null,
   "id": "8bca2ff1-a114-44d0-9ea2-1d66dde05f33",
   "metadata": {},
   "outputs": [],
   "source": [
    "from langchain_groq import ChatGroq "
   ]
  },
  {
   "cell_type": "code",
   "execution_count": null,
   "id": "d91a3f91-1888-4270-a53c-847e6e8640f8",
   "metadata": {},
   "outputs": [],
   "source": [
    "# File paths and other configurations\n",
    "LLM_MODEL = os.getenv(\"LLM_MODEL\")\n",
    "\n",
    "# Initialize the Groq LLM\n",
    "groq_llm = ChatGroq(\n",
    "    model=LLM_MODEL,\n",
    "    temperature=0,\n",
    "    max_tokens=None,\n",
    "    timeout=None,\n",
    "    max_retries=2\n",
    ")\n",
    "\n",
    "review_template = \"\"\"You emulate a potential client who is considering hypnotherapy services.\n",
    "Formulate 5 questions this client might ask based on a FAQ record.\n",
    "The record should contain the answer to the questions, and the questions should be complete and not too short.\n",
    "If possible, use as few words as possible from the record.\n",
    "\n",
    "The record:\n",
    "\n",
    "question: {question}\n",
    "answer: {text}\n",
    "\n",
    "Provide the output as a list without using code blocks:\n",
    "\n",
    "[\"question1\", \"question2\", ..., \"question5\"]\"\"\"\n",
    "\n",
    "\n",
    "review_system_prompt = SystemMessagePromptTemplate(\n",
    "    prompt=PromptTemplate(input_variables=[\"question\",\"text\"], template=review_template)\n",
    ")\n",
    "\n",
    "messages = [review_system_prompt]\n",
    "\n",
    "review_prompt = ChatPromptTemplate(\n",
    "    input_variables=[\"question\",\"text\"], messages=messages\n",
    ")\n",
    "\n",
    "reviews_vector_chain = RetrievalQA.from_chain_type(\n",
    "    llm=groq_llm,\n",
    "    chain_type=\"stuff\",\n",
    "    retriever=new_vector_store.as_retriever(search_type=\"similarity_score_threshold\", \n",
    "                                            search_kwargs={\"score_threshold\": .5, \n",
    "                                            \"k\": 3}),\n",
    ")\n",
    "reviews_vector_chain.combine_documents_chain.llm_chain.prompt = review_prompt\n"
   ]
  },
  {
   "cell_type": "markdown",
   "id": "e118aef0-3fcd-4e37-b3e6-68a74b27fe0a",
   "metadata": {},
   "source": [
    "## Step2 : Run the generated questions using the Q&A bot"
   ]
  },
  {
   "cell_type": "code",
   "execution_count": null,
   "id": "61c3f0c5-8445-41ab-b9c2-41f9d22b39e5",
   "metadata": {},
   "outputs": [],
   "source": []
  },
  {
   "cell_type": "markdown",
   "id": "5a8114db-534c-4294-8b52-c7092c6ef9f8",
   "metadata": {},
   "source": [
    "## Step 3: Evaluate results"
   ]
  },
  {
   "cell_type": "code",
   "execution_count": null,
   "id": "f5736f93-614c-4667-92b9-39c85fafb1f3",
   "metadata": {},
   "outputs": [],
   "source": []
  }
 ],
 "metadata": {
  "kernelspec": {
   "display_name": "Python 3 (ipykernel)",
   "language": "python",
   "name": "python3"
  },
  "language_info": {
   "codemirror_mode": {
    "name": "ipython",
    "version": 3
   },
   "file_extension": ".py",
   "mimetype": "text/x-python",
   "name": "python",
   "nbconvert_exporter": "python",
   "pygments_lexer": "ipython3",
   "version": "3.12.1"
  }
 },
 "nbformat": 4,
 "nbformat_minor": 5
}
