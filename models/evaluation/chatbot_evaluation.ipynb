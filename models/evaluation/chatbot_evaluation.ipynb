{
 "cells": [
  {
   "cell_type": "markdown",
   "id": "07a1f9aa-46e0-4616-8433-e572c5b0ef2e",
   "metadata": {},
   "source": [
    "# Notebook For Q&A OffLine Evaluation"
   ]
  },
  {
   "cell_type": "markdown",
   "id": "e93a8552-79ae-4acc-afb3-7ae9ee71fac6",
   "metadata": {},
   "source": [
    "## Step1 : create set of possible questions for each Q&A (aka Ground truth)"
   ]
  },
  {
   "cell_type": "code",
   "execution_count": null,
   "id": "1cc95b2a-fa1c-490e-b9ac-bb75afe7bb86",
   "metadata": {},
   "outputs": [],
   "source": []
  },
  {
   "cell_type": "markdown",
   "id": "e118aef0-3fcd-4e37-b3e6-68a74b27fe0a",
   "metadata": {},
   "source": [
    "## Step2 : Run the generated questions using the Q&A bot"
   ]
  },
  {
   "cell_type": "code",
   "execution_count": null,
   "id": "61c3f0c5-8445-41ab-b9c2-41f9d22b39e5",
   "metadata": {},
   "outputs": [],
   "source": []
  },
  {
   "cell_type": "markdown",
   "id": "5a8114db-534c-4294-8b52-c7092c6ef9f8",
   "metadata": {},
   "source": [
    "## Step 3: Evaluate results"
   ]
  },
  {
   "cell_type": "code",
   "execution_count": null,
   "id": "f5736f93-614c-4667-92b9-39c85fafb1f3",
   "metadata": {},
   "outputs": [],
   "source": []
  }
 ],
 "metadata": {
  "kernelspec": {
   "display_name": "Python 3 (ipykernel)",
   "language": "python",
   "name": "python3"
  },
  "language_info": {
   "codemirror_mode": {
    "name": "ipython",
    "version": 3
   },
   "file_extension": ".py",
   "mimetype": "text/x-python",
   "name": "python",
   "nbconvert_exporter": "python",
   "pygments_lexer": "ipython3",
   "version": "3.12.1"
  }
 },
 "nbformat": 4,
 "nbformat_minor": 5
}
