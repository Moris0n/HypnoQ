{
 "cells": [
  {
   "cell_type": "markdown",
   "id": "69be3423-ee09-478a-b7c0-e697b043a01f",
   "metadata": {},
   "source": [
    "# Notebook For Q&A OffLine Evaluation - Part 2"
   ]
  },
  {
   "cell_type": "markdown",
   "id": "225fce0c-447d-4017-acdd-5eb24c6aa4fc",
   "metadata": {},
   "source": [
    "## Evaluste vector search"
   ]
  },
  {
   "cell_type": "code",
   "execution_count": 1,
   "id": "7d2275ec-f31a-45e4-a3bc-5e067560c5d8",
   "metadata": {},
   "outputs": [],
   "source": [
    "import os\n",
    "\n",
    "from langchain_community.vectorstores import FAISS\n",
    "from langchain_community.embeddings.fastembed import FastEmbedEmbeddings\n",
    "from langchain.vectorstores import FAISS\n"
   ]
  },
  {
   "cell_type": "code",
   "execution_count": 2,
   "id": "46228403-ae21-4e80-82a3-c3d290504da7",
   "metadata": {},
   "outputs": [
    {
     "data": {
      "application/vnd.jupyter.widget-view+json": {
       "model_id": "231c8f331fe44ab3b9d02e0099e924a6",
       "version_major": 2,
       "version_minor": 0
      },
      "text/plain": [
       "Fetching 5 files:   0%|          | 0/5 [00:00<?, ?it/s]"
      ]
     },
     "metadata": {},
     "output_type": "display_data"
    }
   ],
   "source": [
    "# File paths and other configurations\n",
    "EMBEDDING_MODEL =  os.getenv(\"EMBEDDING_MODEL\")\n",
    "LLM_MODEL = os.getenv(\"LLM_MODEL\")\n",
    "INDEX_NAME = os.getenv(\"INDEX_NAME\")\n",
    "\n",
    "embed_model = FastEmbedEmbeddings(model_name=EMBEDDING_MODEL)\n",
    "\n",
    "new_vector_store = FAISS.load_local(\n",
    "    INDEX_NAME, embed_model, allow_dangerous_deserialization=True\n",
    ")\n",
    "\n",
    "# Access the document store\n",
    "stored_docs = new_vector_store.docstore._dict"
   ]
  },
  {
   "cell_type": "code",
   "execution_count": 4,
   "id": "e846492c-2d65-483b-a7c9-56adc72be697",
   "metadata": {},
   "outputs": [],
   "source": [
    "retriver = new_vector_store.as_retriever(search_type=\"similarity_score_threshold\", \n",
    "                                            search_kwargs={\"score_threshold\": .5, \n",
    "                                            \"k\": 3})"
   ]
  },
  {
   "cell_type": "code",
   "execution_count": 5,
   "id": "883e65af-1700-46b1-8ad6-dee9d2a6a3b4",
   "metadata": {},
   "outputs": [
    {
     "data": {
      "text/plain": [
       "[Document(metadata={'Header 1': 'Frequently Asked Questions about Daydream Therapy (FAQs)', 'Header 2': 'FAQ', 'Header 4': 'Q: Will hypnotherapy work for Me?'}, page_content='Q: Will hypnotherapy work for Me?\\nEveryone is capable of change. Whether you will effect that change is largely down to you. Cognitive Hypnotherapy isn’t a miracle pill. It’s a process of mental reprogramming. Our sessions will guide you to learn how to think, behave, and feel differently.  \\nSince I began practicing as a therapist, I’ve noticed some common traits among the clients who have made the most positive changes in their lives. They are curious, willing to learn about themselves, and being prepared to put in the work. I can guide you. And I will support you always. But nobody can do it for you.'),\n",
       " Document(metadata={'Header 1': 'Frequently Asked Questions about Daydream Therapy (FAQs)', 'Header 2': 'FAQ', 'Header 4': 'Q: What do we mean by hypnotherapy?'}, page_content='Q: What do we mean by hypnotherapy?\\nPeople tend to think of hypnotherapy as something that is done to them. This couldn’t be further from the truth. You won’t be ‘under my control’, you will not lose control of your mind or body, and you won’t be going into a deep sleep. You’re in control. I’m merely there as a facilitator and guide.  Sometimes you may close your eyes and listen to me, but you will always have the sense of where you are and what you are doing and can talk or open your eyes whenever you want.  \\nThese conversations with your unconscious mind lead you to leave our sessions feeling a little bit ‘different’ and you’ll notice changes start to appear in the way you act & feel. While they start small, these little course corrections gradually grow into much bigger changes.  You start to notice how you are thinking differently and behaving differently – moving towards your future self.'),\n",
       " Document(metadata={'Header 1': 'Frequently Asked Questions about Daydream Therapy (FAQs)', 'Header 2': 'FAQ', 'Header 4': 'Q: Is it possible to get stuck in hypnosis?'}, page_content='Q: Is it possible to get stuck in hypnosis?\\nNo, this isn’t possible. Think of hypnosis as being similar to day-dreaming. You may day-dream, but you always re-focus, snap back, and become fully conscious of yourself again. Even if I were to leave you in trance and walk out of the room, you would in time either drift into sleep or open your eyes. The problem occurs not when we’re ‘stuck’ in hypnosis, but when we’re stuck in the fantasy our minds have created for ourselves, to protect us from whatever threat it is we perceive. Essentially, Cognitive Hypnotherapy helps you to snap out of the ‘trance’ state that is negatively impacting your life.')]"
      ]
     },
     "execution_count": 5,
     "metadata": {},
     "output_type": "execute_result"
    }
   ],
   "source": [
    "retriver.invoke(\"Q: Will hypnotherapy work for Me?\")"
   ]
  },
  {
   "cell_type": "code",
   "execution_count": 16,
   "id": "1f61dcdc-17ee-43ee-96b1-1e9128b71988",
   "metadata": {},
   "outputs": [
    {
     "ename": "RuntimeError",
     "evalue": "Error in faiss::Index* faiss::read_index(faiss::IOReader*, int) at /project/faiss/faiss/impl/index_read.cpp:533: Error: 'ret == (1)' failed: read error in /workspaces/HypnoQ/hypnoq_index: 0 != 1 (Is a directory)",
     "output_type": "error",
     "traceback": [
      "\u001b[0;31m---------------------------------------------------------------------------\u001b[0m",
      "\u001b[0;31mRuntimeError\u001b[0m                              Traceback (most recent call last)",
      "\u001b[0;32m/tmp/ipykernel_57223/3758503195.py\u001b[0m in \u001b[0;36m?\u001b[0;34m()\u001b[0m\n\u001b[1;32m      1\u001b[0m \u001b[0;32mimport\u001b[0m \u001b[0mfaiss\u001b[0m\u001b[0;34m\u001b[0m\u001b[0;34m\u001b[0m\u001b[0m\n\u001b[1;32m      2\u001b[0m \u001b[0;32mimport\u001b[0m \u001b[0mnumpy\u001b[0m \u001b[0;32mas\u001b[0m \u001b[0mnp\u001b[0m\u001b[0;34m\u001b[0m\u001b[0;34m\u001b[0m\u001b[0m\n\u001b[1;32m      3\u001b[0m \u001b[0;34m\u001b[0m\u001b[0m\n\u001b[1;32m      4\u001b[0m \u001b[0;31m# Assuming `index` is your FAISS index and `ids` is an array of IDs corresponding to vectors\u001b[0m\u001b[0;34m\u001b[0m\u001b[0;34m\u001b[0m\u001b[0m\n\u001b[0;32m----> 5\u001b[0;31m \u001b[0mindex\u001b[0m \u001b[0;34m=\u001b[0m \u001b[0mfaiss\u001b[0m\u001b[0;34m.\u001b[0m\u001b[0mread_index\u001b[0m\u001b[0;34m(\u001b[0m\u001b[0mINDEX_NAME\u001b[0m\u001b[0;34m)\u001b[0m\u001b[0;34m\u001b[0m\u001b[0;34m\u001b[0m\u001b[0m\n\u001b[0m\u001b[1;32m      6\u001b[0m \u001b[0;34m\u001b[0m\u001b[0m\n\u001b[1;32m      7\u001b[0m \u001b[0;31m# Perform the search\u001b[0m\u001b[0;34m\u001b[0m\u001b[0;34m\u001b[0m\u001b[0m\n\u001b[1;32m      8\u001b[0m \u001b[0mD\u001b[0m\u001b[0;34m,\u001b[0m \u001b[0mI\u001b[0m \u001b[0;34m=\u001b[0m \u001b[0mindex\u001b[0m\u001b[0;34m.\u001b[0m\u001b[0msearch\u001b[0m\u001b[0;34m(\u001b[0m\u001b[0;34m\"Q: Will hypnotherapy work for Me?\"\u001b[0m\u001b[0;34m,\u001b[0m \u001b[0mk\u001b[0m\u001b[0;34m)\u001b[0m  \u001b[0;31m# `query_vectors` is your query vector\u001b[0m\u001b[0;34m\u001b[0m\u001b[0;34m\u001b[0m\u001b[0m\n",
      "\u001b[0;32m~/.cache/pypoetry/virtualenvs/vectordb-setup-yTxKQJ5g-py3.12/lib/python3.12/site-packages/faiss/swigfaiss_avx2.py\u001b[0m in \u001b[0;36m?\u001b[0;34m(*args)\u001b[0m\n\u001b[1;32m  10537\u001b[0m \u001b[0;32mdef\u001b[0m \u001b[0mread_index\u001b[0m\u001b[0;34m(\u001b[0m\u001b[0;34m*\u001b[0m\u001b[0margs\u001b[0m\u001b[0;34m)\u001b[0m\u001b[0;34m:\u001b[0m\u001b[0;34m\u001b[0m\u001b[0;34m\u001b[0m\u001b[0m\n\u001b[0;32m> 10538\u001b[0;31m     \u001b[0;32mreturn\u001b[0m \u001b[0m_swigfaiss_avx2\u001b[0m\u001b[0;34m.\u001b[0m\u001b[0mread_index\u001b[0m\u001b[0;34m(\u001b[0m\u001b[0;34m*\u001b[0m\u001b[0margs\u001b[0m\u001b[0;34m)\u001b[0m\u001b[0;34m\u001b[0m\u001b[0;34m\u001b[0m\u001b[0m\n\u001b[0m",
      "\u001b[0;31mRuntimeError\u001b[0m: Error in faiss::Index* faiss::read_index(faiss::IOReader*, int) at /project/faiss/faiss/impl/index_read.cpp:533: Error: 'ret == (1)' failed: read error in /workspaces/HypnoQ/hypnoq_index: 0 != 1 (Is a directory)"
     ]
    }
   ],
   "source": [
    "import faiss\n",
    "import numpy as np\n",
    "\n",
    "# Assuming `index` is your FAISS index and `ids` is an array of IDs corresponding to vectors\n",
    "index = faiss.read_index(INDEX_NAME)\n",
    "\n",
    "# Perform the search\n",
    "D, I = index.search(\"Q: Will hypnotherapy work for Me?\", k)  # `query_vectors` is your query vector\n",
    "\n",
    "\n"
   ]
  },
  {
   "cell_type": "code",
   "execution_count": 14,
   "id": "eacd221b-4f27-4545-bfc6-6b3f9b020871",
   "metadata": {},
   "outputs": [
    {
     "name": "stdout",
     "output_type": "stream",
     "text": [
      "page_content='Q: Will hypnotherapy work for Me?\n",
      "Everyone is capable of change. Whether you will effect that change is largely down to you. Cognitive Hypnotherapy isn’t a miracle pill. It’s a process of mental reprogramming. Our sessions will guide you to learn how to think, behave, and feel differently.  \n",
      "Since I began practicing as a therapist, I’ve noticed some common traits among the clients who have made the most positive changes in their lives. They are curious, willing to learn about themselves, and being prepared to put in the work. I can guide you. And I will support you always. But nobody can do it for you.' metadata={'Header 1': 'Frequently Asked Questions about Daydream Therapy (FAQs)', 'Header 2': 'FAQ', 'Header 4': 'Q: Will hypnotherapy work for Me?'}\n",
      "page_content='Q: What do we mean by hypnotherapy?\n",
      "People tend to think of hypnotherapy as something that is done to them. This couldn’t be further from the truth. You won’t be ‘under my control’, you will not lose control of your mind or body, and you won’t be going into a deep sleep. You’re in control. I’m merely there as a facilitator and guide.  Sometimes you may close your eyes and listen to me, but you will always have the sense of where you are and what you are doing and can talk or open your eyes whenever you want.  \n",
      "These conversations with your unconscious mind lead you to leave our sessions feeling a little bit ‘different’ and you’ll notice changes start to appear in the way you act & feel. While they start small, these little course corrections gradually grow into much bigger changes.  You start to notice how you are thinking differently and behaving differently – moving towards your future self.' metadata={'Header 1': 'Frequently Asked Questions about Daydream Therapy (FAQs)', 'Header 2': 'FAQ', 'Header 4': 'Q: What do we mean by hypnotherapy?'}\n",
      "page_content='Q: Is it possible to get stuck in hypnosis?\n",
      "No, this isn’t possible. Think of hypnosis as being similar to day-dreaming. You may day-dream, but you always re-focus, snap back, and become fully conscious of yourself again. Even if I were to leave you in trance and walk out of the room, you would in time either drift into sleep or open your eyes. The problem occurs not when we’re ‘stuck’ in hypnosis, but when we’re stuck in the fantasy our minds have created for ourselves, to protect us from whatever threat it is we perceive. Essentially, Cognitive Hypnotherapy helps you to snap out of the ‘trance’ state that is negatively impacting your life.' metadata={'Header 1': 'Frequently Asked Questions about Daydream Therapy (FAQs)', 'Header 2': 'FAQ', 'Header 4': 'Q: Is it possible to get stuck in hypnosis?'}\n"
     ]
    }
   ],
   "source": [
    "for d in docs: \n",
    "    print(d)"
   ]
  },
  {
   "cell_type": "code",
   "execution_count": null,
   "id": "1be7f9e7-2b06-43ba-bfb4-e878e351fd60",
   "metadata": {},
   "outputs": [],
   "source": []
  }
 ],
 "metadata": {
  "kernelspec": {
   "display_name": "Python 3 (ipykernel)",
   "language": "python",
   "name": "python3"
  },
  "language_info": {
   "codemirror_mode": {
    "name": "ipython",
    "version": 3
   },
   "file_extension": ".py",
   "mimetype": "text/x-python",
   "name": "python",
   "nbconvert_exporter": "python",
   "pygments_lexer": "ipython3",
   "version": "3.12.1"
  }
 },
 "nbformat": 4,
 "nbformat_minor": 5
}
