{
 "cells": [
  {
   "cell_type": "markdown",
   "id": "69be3423-ee09-478a-b7c0-e697b043a01f",
   "metadata": {},
   "source": [
    "# Notebook For Q&A OffLine Evaluation - Part 2"
   ]
  },
  {
   "cell_type": "markdown",
   "id": "225fce0c-447d-4017-acdd-5eb24c6aa4fc",
   "metadata": {},
   "source": [
    "## Evaluste vector search"
   ]
  },
  {
   "cell_type": "code",
   "execution_count": 1,
   "id": "7d2275ec-f31a-45e4-a3bc-5e067560c5d8",
   "metadata": {},
   "outputs": [],
   "source": [
    "import os\n",
    "from tqdm import tqdm\n",
    "import pandas as pd\n",
    "\n",
    "from langchain_community.vectorstores import FAISS\n",
    "from langchain_community.embeddings.fastembed import FastEmbedEmbeddings\n",
    "from langchain.vectorstores import FAISS\n"
   ]
  },
  {
   "cell_type": "code",
   "execution_count": 2,
   "id": "10770dbf-b833-4123-b3be-c3a28de205cc",
   "metadata": {},
   "outputs": [],
   "source": [
    "from eval_functions import hit_rate, mrr"
   ]
  },
  {
   "cell_type": "code",
   "execution_count": 3,
   "id": "46228403-ae21-4e80-82a3-c3d290504da7",
   "metadata": {},
   "outputs": [
    {
     "name": "stderr",
     "output_type": "stream",
     "text": [
      "/home/codespace/.cache/pypoetry/virtualenvs/models-io_XXpQJ-py3.12/lib/python3.12/site-packages/tqdm/auto.py:21: TqdmWarning: IProgress not found. Please update jupyter and ipywidgets. See https://ipywidgets.readthedocs.io/en/stable/user_install.html\n",
      "  from .autonotebook import tqdm as notebook_tqdm\n",
      "Fetching 5 files: 100%|█████████████████████████████████████████████████████████████████████████████████████████████████████████████████████████████████| 5/5 [00:00<00:00, 53911.36it/s]\n"
     ]
    }
   ],
   "source": [
    "# File paths and other configurations\n",
    "EMBEDDING_MODEL =  os.getenv(\"EMBEDDING_MODEL\")\n",
    "LLM_MODEL = os.getenv(\"LLM_MODEL\")\n",
    "INDEX_NAME = os.getenv(\"INDEX_NAME\")\n",
    "\n",
    "embed_model = FastEmbedEmbeddings(model_name=EMBEDDING_MODEL)\n",
    "\n",
    "new_vector_store = FAISS.load_local(\n",
    "    INDEX_NAME, embed_model, allow_dangerous_deserialization=True\n",
    ")\n",
    "\n",
    "# Access the document store\n",
    "stored_docs = new_vector_store.docstore._dict"
   ]
  },
  {
   "cell_type": "code",
   "execution_count": 16,
   "id": "e846492c-2d65-483b-a7c9-56adc72be697",
   "metadata": {},
   "outputs": [],
   "source": [
    "retriver = new_vector_store.as_retriever(search_type=\"similarity_score_threshold\", \n",
    "                                            search_kwargs={\"score_threshold\": .4, \n",
    "                                            \"k\": 3})"
   ]
  },
  {
   "cell_type": "code",
   "execution_count": 9,
   "id": "883e65af-1700-46b1-8ad6-dee9d2a6a3b4",
   "metadata": {},
   "outputs": [
    {
     "data": {
      "text/plain": [
       "{'doc_id': '34cdb806-9fd2-4b74-895a-134bfdb7bcac',\n",
       " 'orig_quest': 'What is hypnosis and is it safe?',\n",
       " 'questions': 'Can you explain how hypnosis can be used to make positive suggestions to my unconscious mind?'}"
      ]
     },
     "execution_count": 9,
     "metadata": {},
     "output_type": "execute_result"
    }
   ],
   "source": [
    "df_ground_truth = pd.read_csv('ground-truth-data.csv')\n",
    "ground_truth = df_ground_truth.to_dict(orient='records')\n",
    "ground_truth[2]"
   ]
  },
  {
   "cell_type": "code",
   "execution_count": 10,
   "id": "fc9974f8-1783-438c-941f-b718d5f52d0b",
   "metadata": {},
   "outputs": [
    {
     "data": {
      "text/plain": [
       "[Document(metadata={'Header 1': 'Frequently Asked Questions about Daydream Therapy (FAQs)', 'Header 2': 'FAQ', 'Header 4': 'What is hypnosis and is it safe?', 'doc_id': '34cdb806-9fd2-4b74-895a-134bfdb7bcac'}, page_content='What is hypnosis and is it safe?\\nDuring hypnosis I use this state within you to make positive suggestions to your unconscious mind, based on what you tell me you want to achieve. Your unconscious is in a much more receptive position when you are in this relaxed state. Therefore, it is an incredibly effective tool, to take you towards your solution. When combined with other tools and techniques, such as NLP, can make short work of long-standing problems.  \\nAnd yes, it is a safe, and natural state that we all go in and out of many times during our day, perhaps without even knowing it. If you have ever been driving along a road and then ‘come to’ and wondered who was in control of the car for the last five minutes, or been ’miles away’ when someone is trying to talk to you – that’s trance, and we are all very good at it. It’s a little like day-dreaming for some people, but it also often heightens the awareness of the senses too.'),\n",
       " Document(metadata={'Header 1': 'Frequently Asked Questions about Daydream Therapy (FAQs)', 'Header 2': 'FAQ', 'Header 4': 'Q: Will hypnotherapy work for Me?', 'doc_id': '1ef71159-8d1d-4f78-85c4-31bfefcb23f6'}, page_content='Q: Will hypnotherapy work for Me?\\nEveryone is capable of change. Whether you will effect that change is largely down to you. Cognitive Hypnotherapy isn’t a miracle pill. It’s a process of mental reprogramming. Our sessions will guide you to learn how to think, behave, and feel differently.  \\nSince I began practicing as a therapist, I’ve noticed some common traits among the clients who have made the most positive changes in their lives. They are curious, willing to learn about themselves, and being prepared to put in the work. I can guide you. And I will support you always. But nobody can do it for you.'),\n",
       " Document(metadata={'Header 1': 'Frequently Asked Questions about Daydream Therapy (FAQs)', 'Header 2': 'FAQ', 'Header 4': 'Q: What do we mean by hypnotherapy?', 'doc_id': '55e90ead-8d05-496f-86a5-d0ec121cbe5d'}, page_content='Q: What do we mean by hypnotherapy?\\nPeople tend to think of hypnotherapy as something that is done to them. This couldn’t be further from the truth. You won’t be ‘under my control’, you will not lose control of your mind or body, and you won’t be going into a deep sleep. You’re in control. I’m merely there as a facilitator and guide.  Sometimes you may close your eyes and listen to me, but you will always have the sense of where you are and what you are doing and can talk or open your eyes whenever you want.  \\nThese conversations with your unconscious mind lead you to leave our sessions feeling a little bit ‘different’ and you’ll notice changes start to appear in the way you act & feel. While they start small, these little course corrections gradually grow into much bigger changes.  You start to notice how you are thinking differently and behaving differently – moving towards your future self.'),\n",
       " Document(metadata={'Header 1': 'Frequently Asked Questions about Daydream Therapy (FAQs)', 'Header 2': 'FAQ', 'Header 4': 'Q: Is it possible to get stuck in hypnosis?', 'doc_id': '3f96d283-6d4c-4ff0-8b49-5b0ca1834a8c'}, page_content='Q: Is it possible to get stuck in hypnosis?\\nNo, this isn’t possible. Think of hypnosis as being similar to day-dreaming. You may day-dream, but you always re-focus, snap back, and become fully conscious of yourself again. Even if I were to leave you in trance and walk out of the room, you would in time either drift into sleep or open your eyes. The problem occurs not when we’re ‘stuck’ in hypnosis, but when we’re stuck in the fantasy our minds have created for ourselves, to protect us from whatever threat it is we perceive. Essentially, Cognitive Hypnotherapy helps you to snap out of the ‘trance’ state that is negatively impacting your life.'),\n",
       " Document(metadata={'Header 1': 'Frequently Asked Questions about Daydream Therapy (FAQs)', 'Header 2': 'FAQ', 'Header 4': 'What is Cognitive Hypnotherapy?', 'doc_id': '56e6efa8-ef1c-4c09-aafd-80e3e0764346'}, page_content='What is Cognitive Hypnotherapy?\\nCognitive Hypnotherapy is a person-centered, flexible, and transformational approach designed to equip you with the practical tools you need to bring about meaningful and lasting changes in your life. It utilizes light trance, which is similar to the everyday nature of daydreaming, or getting lost in thought while driving a car.  \\nCognitive Hypnotherapy draws on a broad range of therapeutic techniques – including NLP, CBT, Psychotherapy, Gestalt, Positive Psychology, Traditional Hypnotherapy, Transactional Analysis and more. Practitioners don’t treat labels with standard scripts. We treat people, and we approach each person as the unique individual that they are.  \\nThe main pillars of Cognitive Hypnotherapy:  \\n1. **All behavior has a positive intention.**  \\nOur subconscious is trying to protect us all the time from what it perceives as a threat. So its intention is right, but the outcome often isn’t. Around 90% of what we do is unconsciously driven, and not all these natural responses to experiences are helpful.  \\n2. **We are all doing the best we can with what we have available**  \\nEveryone has arrived at their issue through a series of experiences that have shaped (programmed) their minds in a unique way. QCH Therapy helps us to change this unconscious programming that affects our behaviour and holds us back.  \\n3. **Trance is something we do every day, without even realizing**  \\nWe all go in and out of trance every day, often without realizing. When we are ‘doing’ our ‘problem’ we are in this trance state too. It works by ‘de-hypnotising’ us – to change the way we think and behave toward our particular problem.  \\n4. **You have everything you need within, to create the life you want**  \\nYou are the expert on your life. Guided by an experienced practitioner, Cognitive Hypnotherapy provides you with the tools, knowledge, and skills you need to take back control of your own thoughts, behaviors, and feelings.'),\n",
       " Document(metadata={'Header 1': 'Frequently Asked Questions about Daydream Therapy (FAQs)', 'Header 2': 'FAQ', 'Header 4': 'Q: What is Trance?', 'doc_id': '481d5f91-3a34-451d-a9cd-0e628b6d5457'}, page_content='Q: What is Trance?\\nTrance is an everyday phenomenon.  Studies suggest that approximately 90% of our behavior is unconscious. That means we are only truly in control of our actions one tenth of the time. In Cognitive Hypnotherapy, we see trance as a naturally occurring, everyday state. If you think of times you catch yourself ‘day dreaming’ or being ‘on auto-pilot’ – these are all examples of trance states where you are physically present, but your mind is somewhere else. So, if we’re at the mercy of our unconscious mind almost all of the time, then it stands to reason it’s the first lever to pull if we want to effect change in our thought processes, feelings and behavioral patterns. Cognitive Hypnotherapy helps you to understand these processes, and ultimately take control of the ones that serve you poorly. The work of the Cognitive Hypnotherapist is not to hypnotize you, but to help de-hypnotise you from these unhelpful states, and give you back control of your life.  \\nEveryone experiences trance slightly differently. But in general, you will feel relaxed but still aware of whatever is going on around you – my voice, background noise, and the content of your thoughts. Although it is not the same as sleep, many people feel refreshed afterwards. Others feel little difference after being in trance. But most people comment on what a pleasant experience it was. Some of these trances are the result of significant emotional events in our lives. For example, a traumatic childhood experience with a dog that has led to a lifelong fear of dogs. It’s when you encounter a problem like this that you may find Cognitive Hypnotherapy life changing. Whatever it is, I will listen to your problem, and together we will explore how that problem has been affecting your life. We’ll then work together to disrupt that pattern, using interventions and hypnosis techniques. Together, we can undo the negative feelings you’re experiencing and move you towards your own personal solution state.'),\n",
       " Document(metadata={'Header 1': 'Frequently Asked Questions about Daydream Therapy (FAQs)', 'Header 2': 'FAQ', 'Header 4': 'Q: What does hypnosis feel like?', 'doc_id': '1c104955-583e-4640-b2bc-157c2419b452'}, page_content='Q: What does hypnosis feel like?\\nHypnotic trance can feel a little like daydreaming. Generally it’s a very pleasant sensation where you are conscious of what is going on around you and what is happening throughout the session, but may choose to ‘drift off’ with your own thoughts from time to time. Some people report being more conscious of things happening around them, during hypnosis, with a heightened sense of awareness. So, we all experience it differently, and the one thing I do know is that everyone’s experience is unique, so it isn’t possible to get it ‘wrong’. The way you experience hypnosis is the right way for you, and it may well be different to someone else.  \\nHowever, most people comment on how relaxed they feel during hypnosis. This feeling often continues for sometime after the session is over, leaving you ready to continue your day.')]"
      ]
     },
     "execution_count": 10,
     "metadata": {},
     "output_type": "execute_result"
    }
   ],
   "source": [
    "retriver.invoke(ground_truth[2]['questions'])"
   ]
  },
  {
   "cell_type": "code",
   "execution_count": 17,
   "id": "1be7f9e7-2b06-43ba-bfb4-e878e351fd60",
   "metadata": {},
   "outputs": [],
   "source": [
    "def evaluate(ground_truth, retriver):\n",
    "    relevance_total = []\n",
    "\n",
    "    for q in tqdm(ground_truth):\n",
    "        doc_id = q['doc_id']\n",
    "        results = retriver.invoke(q['questions'])\n",
    "        relevance = [d.metadata.get('doc_id', None) == doc_id for d in results]\n",
    "        relevance_total.append(relevance)\n",
    "\n",
    "    return {\n",
    "        'hit_rate': hit_rate(relevance_total),\n",
    "        'mrr': mrr(relevance_total),\n",
    "    }"
   ]
  },
  {
   "cell_type": "code",
   "execution_count": 18,
   "id": "7c1af270-644b-4098-abb5-8535df8da795",
   "metadata": {},
   "outputs": [
    {
     "name": "stderr",
     "output_type": "stream",
     "text": [
      "100%|████████████████████████████████████████████████████████████████████████████████████████████████████████████████████████████████████████████████████| 80/80 [00:13<00:00,  5.76it/s]\n"
     ]
    },
    {
     "data": {
      "text/plain": [
       "{'hit_rate': 0.9, 'mrr': 0.7541666666666667}"
      ]
     },
     "execution_count": 18,
     "metadata": {},
     "output_type": "execute_result"
    }
   ],
   "source": [
    "evaluate(ground_truth, retriver)"
   ]
  },
  {
   "cell_type": "code",
   "execution_count": null,
   "id": "ab5a96a9-028f-44e6-a61b-4d1f8708db5a",
   "metadata": {},
   "outputs": [],
   "source": []
  }
 ],
 "metadata": {
  "kernelspec": {
   "display_name": "Python 3 (ipykernel)",
   "language": "python",
   "name": "python3"
  },
  "language_info": {
   "codemirror_mode": {
    "name": "ipython",
    "version": 3
   },
   "file_extension": ".py",
   "mimetype": "text/x-python",
   "name": "python",
   "nbconvert_exporter": "python",
   "pygments_lexer": "ipython3",
   "version": "3.12.1"
  }
 },
 "nbformat": 4,
 "nbformat_minor": 5
}
