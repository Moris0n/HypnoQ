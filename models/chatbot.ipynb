{
 "cells": [
  {
   "cell_type": "code",
   "execution_count": 1,
   "id": "31843e93-2950-4dcd-aa49-c6b04201e612",
   "metadata": {},
   "outputs": [],
   "source": [
    "import faiss\n",
    "from langchain_community.vectorstores import FAISS"
   ]
  },
  {
   "cell_type": "code",
   "execution_count": 2,
   "id": "a2607630-73c0-4483-a6f8-5455a17b19bf",
   "metadata": {},
   "outputs": [],
   "source": [
    "from langchain_community.embeddings.fastembed import FastEmbedEmbeddings\n",
    "from langchain.vectorstores import FAISS"
   ]
  },
  {
   "cell_type": "code",
   "execution_count": 3,
   "id": "58a557b3-ae93-4e5b-9906-e6f58618756e",
   "metadata": {},
   "outputs": [],
   "source": [
    "from langchain.chains import RetrievalQA\n",
    "from langchain.prompts import (\n",
    "    PromptTemplate,\n",
    "    SystemMessagePromptTemplate,\n",
    "    HumanMessagePromptTemplate,\n",
    "    ChatPromptTemplate,\n",
    ")"
   ]
  },
  {
   "cell_type": "code",
   "execution_count": 4,
   "id": "019a6117-4918-4e96-ad45-0fa968353e2d",
   "metadata": {},
   "outputs": [
    {
     "data": {
      "application/vnd.jupyter.widget-view+json": {
       "model_id": "8124efb1f16349a899a04441cfda062a",
       "version_major": 2,
       "version_minor": 0
      },
      "text/plain": [
       "Fetching 5 files:   0%|          | 0/5 [00:00<?, ?it/s]"
      ]
     },
     "metadata": {},
     "output_type": "display_data"
    }
   ],
   "source": [
    "embed_model = FastEmbedEmbeddings(model_name=\"BAAI/bge-base-en-v1.5\")"
   ]
  },
  {
   "cell_type": "code",
   "execution_count": 5,
   "id": "8c4c1dfd-8126-4adf-a478-b50a928ac711",
   "metadata": {},
   "outputs": [],
   "source": [
    "new_vector_store = FAISS.load_local(\n",
    "    \"../hypnoq_index\", embed_model, allow_dangerous_deserialization=True\n",
    ")"
   ]
  },
  {
   "cell_type": "code",
   "execution_count": 6,
   "id": "9d3c121b-0820-4b03-9a15-89f6a6effce5",
   "metadata": {},
   "outputs": [
    {
     "data": {
      "text/plain": [
       "{'b76e60a1-3332-436d-ad4c-08aff5c83cad': Document(metadata={'Header 1': 'Frequently Asked Questions about Daydream Therapy (FAQs)', 'Header 2': 'FAQ', 'Header 4': 'What is hypnosis and is it safe?'}, page_content='What is hypnosis and is it safe?\\nDuring hypnosis I use this state within you to make positive suggestions to your unconscious mind, based on what you tell me you want to achieve. Your unconscious is in a much more receptive position when you are in this relaxed state. Therefore, it is an incredibly effective tool, to take you towards your solution. When combined with other tools and techniques, such as NLP, can make short work of long-standing problems.  \\nAnd yes, it is a safe, and natural state that we all go in and out of many times during our day, perhaps without even knowing it. If you have ever been driving along a road and then ‘come to’ and wondered who was in control of the car for the last five minutes, or been ’miles away’ when someone is trying to talk to you – that’s trance, and we are all very good at it. It’s a little like day-dreaming for some people, but it also often heightens the awareness of the senses too.'),\n",
       " '6ad56dae-d573-4049-9598-f1b18c054ae4': Document(metadata={'Header 1': 'Frequently Asked Questions about Daydream Therapy (FAQs)', 'Header 2': 'FAQ', 'Header 4': 'What is Cognitive Hypnotherapy?'}, page_content='What is Cognitive Hypnotherapy?\\nCognitive Hypnotherapy is a person-centered, flexible, and transformational approach designed to equip you with the practical tools you need to bring about meaningful and lasting changes in your life. It utilizes light trance, which is similar to the everyday nature of daydreaming, or getting lost in thought while driving a car.  \\nCognitive Hypnotherapy draws on a broad range of therapeutic techniques – including NLP, CBT, Psychotherapy, Gestalt, Positive Psychology, Traditional Hypnotherapy, Transactional Analysis and more. Practitioners don’t treat labels with standard scripts. We treat people, and we approach each person as the unique individual that they are.  \\nThe main pillars of Cognitive Hypnotherapy:  \\n1. **All behavior has a positive intention.**  \\nOur subconscious is trying to protect us all the time from what it perceives as a threat. So its intention is right, but the outcome often isn’t. Around 90% of what we do is unconsciously driven, and not all these natural responses to experiences are helpful.  \\n2. **We are all doing the best we can with what we have available**  \\nEveryone has arrived at their issue through a series of experiences that have shaped (programmed) their minds in a unique way. QCH Therapy helps us to change this unconscious programming that affects our behaviour and holds us back.  \\n3. **Trance is something we do every day, without even realizing**  \\nWe all go in and out of trance every day, often without realizing. When we are ‘doing’ our ‘problem’ we are in this trance state too. It works by ‘de-hypnotising’ us – to change the way we think and behave toward our particular problem.  \\n4. **You have everything you need within, to create the life you want**  \\nYou are the expert on your life. Guided by an experienced practitioner, Cognitive Hypnotherapy provides you with the tools, knowledge, and skills you need to take back control of your own thoughts, behaviors, and feelings.'),\n",
       " '4dd1df1b-8843-4fdc-b6b0-20de1bba728d': Document(metadata={'Header 1': 'Frequently Asked Questions about Daydream Therapy (FAQs)', 'Header 2': 'FAQ', 'Header 4': 'My approach'}, page_content='My approach\\nYour treatment plan will be tailored to your specific individual needs and goals and will be conducted in a safe, comfortable environment where you feel you can explore anything without fear of judgment or embarrassment. I am fun, practical and down to earth – and that’s exactly how you can expect sessions with me to be.'),\n",
       " '927f82f6-eafc-40e4-9f1d-44e29566d4fa': Document(metadata={'Header 1': 'Frequently Asked Questions about Daydream Therapy (FAQs)', 'Header 2': 'FAQ', 'Header 4': 'Q: What do we mean by hypnotherapy?'}, page_content='Q: What do we mean by hypnotherapy?\\nPeople tend to think of hypnotherapy as something that is done to them. This couldn’t be further from the truth. You won’t be ‘under my control’, you will not lose control of your mind or body, and you won’t be going into a deep sleep. You’re in control. I’m merely there as a facilitator and guide.  Sometimes you may close your eyes and listen to me, but you will always have the sense of where you are and what you are doing and can talk or open your eyes whenever you want.  \\nThese conversations with your unconscious mind lead you to leave our sessions feeling a little bit ‘different’ and you’ll notice changes start to appear in the way you act & feel. While they start small, these little course corrections gradually grow into much bigger changes.  You start to notice how you are thinking differently and behaving differently – moving towards your future self.'),\n",
       " 'e7fbf674-336c-4d1f-8f4b-613f0cff1b09': Document(metadata={'Header 1': 'Frequently Asked Questions about Daydream Therapy (FAQs)', 'Header 2': 'FAQ', 'Header 4': 'Q: Will hypnotherapy work for Me?'}, page_content='Q: Will hypnotherapy work for Me?\\nEveryone is capable of change. Whether you will effect that change is largely down to you. Cognitive Hypnotherapy isn’t a miracle pill. It’s a process of mental reprogramming. Our sessions will guide you to learn how to think, behave, and feel differently.  \\nSince I began practicing as a therapist, I’ve noticed some common traits among the clients who have made the most positive changes in their lives. They are curious, willing to learn about themselves, and being prepared to put in the work. I can guide you. And I will support you always. But nobody can do it for you.'),\n",
       " 'fd183314-b145-4f0a-bed2-371e60feb553': Document(metadata={'Header 1': 'Frequently Asked Questions about Daydream Therapy (FAQs)', 'Header 2': 'FAQ', 'Header 4': 'Q: What is Trance?'}, page_content='Q: What is Trance?\\nTrance is an everyday phenomenon.  Studies suggest that approximately 90% of our behavior is unconscious. That means we are only truly in control of our actions one tenth of the time. In Cognitive Hypnotherapy, we see trance as a naturally occurring, everyday state. If you think of times you catch yourself ‘day dreaming’ or being ‘on auto-pilot’ – these are all examples of trance states where you are physically present, but your mind is somewhere else. So, if we’re at the mercy of our unconscious mind almost all of the time, then it stands to reason it’s the first lever to pull if we want to effect change in our thought processes, feelings and behavioral patterns. Cognitive Hypnotherapy helps you to understand these processes, and ultimately take control of the ones that serve you poorly. The work of the Cognitive Hypnotherapist is not to hypnotize you, but to help de-hypnotise you from these unhelpful states, and give you back control of your life.  \\nEveryone experiences trance slightly differently. But in general, you will feel relaxed but still aware of whatever is going on around you – my voice, background noise, and the content of your thoughts. Although it is not the same as sleep, many people feel refreshed afterwards. Others feel little difference after being in trance. But most people comment on what a pleasant experience it was. Some of these trances are the result of significant emotional events in our lives. For example, a traumatic childhood experience with a dog that has led to a lifelong fear of dogs. It’s when you encounter a problem like this that you may find Cognitive Hypnotherapy life changing. Whatever it is, I will listen to your problem, and together we will explore how that problem has been affecting your life. We’ll then work together to disrupt that pattern, using interventions and hypnosis techniques. Together, we can undo the negative feelings you’re experiencing and move you towards your own personal solution state.'),\n",
       " 'd3b288af-a376-4788-8e1a-857d4c8d3d32': Document(metadata={'Header 1': 'Frequently Asked Questions about Daydream Therapy (FAQs)', 'Header 2': 'FAQ', 'Header 4': 'Q: Is it possible to get stuck in hypnosis?'}, page_content='Q: Is it possible to get stuck in hypnosis?\\nNo, this isn’t possible. Think of hypnosis as being similar to day-dreaming. You may day-dream, but you always re-focus, snap back, and become fully conscious of yourself again. Even if I were to leave you in trance and walk out of the room, you would in time either drift into sleep or open your eyes. The problem occurs not when we’re ‘stuck’ in hypnosis, but when we’re stuck in the fantasy our minds have created for ourselves, to protect us from whatever threat it is we perceive. Essentially, Cognitive Hypnotherapy helps you to snap out of the ‘trance’ state that is negatively impacting your life.'),\n",
       " '95049ac4-e37a-4945-a565-14b294ef3ff2': Document(metadata={'Header 1': 'Frequently Asked Questions about Daydream Therapy (FAQs)', 'Header 2': 'FAQ', 'Header 4': 'Q: Can I be made to do anything I do not want to do?'}, page_content='Q: Can I be made to do anything I do not want to do?\\nEven if I wanted to – which of course I do not – I cannot make you do anything against your will. The aim of our client-therapist relationship is not to control you in any way – it’s to free you from what does control you currently. Rest assured, that involves nothing but treating you in professional, non-judgmental, and ethical way.'),\n",
       " '60ac0de6-4a6a-4c8e-958c-9e06e5dd10cd': Document(metadata={'Header 1': 'Frequently Asked Questions about Daydream Therapy (FAQs)', 'Header 2': 'FAQ', 'Header 4': 'Q: How many sessions will I need?'}, page_content='Q: How many sessions will I need?\\nIt’s not a case of X problem requires Y sessions. Every person I treat is unique, and so too is their own road to where they want to get to. We never know where any session may lead, or what it may uncover.\\nWhat I can say with certainty, is that one of the most significant things to impact the course of your treatment will be your willingness to commit to the process. Particularly your commitment in between sessions – working through the exercises I give you.'),\n",
       " '19b45fa9-3f3c-4ff6-89a2-7d7e838abe92': Document(metadata={'Header 1': 'Frequently Asked Questions about Daydream Therapy (FAQs)', 'Header 2': 'FAQ', 'Header 4': 'Q: Where are sessions held?'}, page_content='Q: Where are sessions held?\\nI can see clients in my therapy rooms (in Hersham, Esher or Wimbledon) or online using Zoom.\\nOccasionally I may see clients in their own home if their needs make this necessary, although it has to be a suitable environment for treatment to be effective.'),\n",
       " 'c56d690d-b1b7-4e95-aee8-2f6c2c3024dc': Document(metadata={'Header 1': 'Frequently Asked Questions about Daydream Therapy (FAQs)', 'Header 2': 'FAQ', 'Header 4': 'Q: How do I book a session?'}, page_content='Q: How do I book a session?\\nPlease see my contact page to send me a message or call me. If you call or email and I am not available then I promise I will call you back as soon as I can, usually within 24 hours.'),\n",
       " '1f46b2db-56d5-4474-b1c5-25201d12a77f': Document(metadata={'Header 1': 'Frequently Asked Questions about Daydream Therapy (FAQs)', 'Header 2': 'FAQ', 'Header 4': 'Q: What is expected of a client?'}, page_content=\"Q: What is expected of a client?\\nYour willing engagement is essential if we’re to achieve what I know we can achieve together. As is your openness and honesty. And you can expect the same from me.\\nI may give you tasks to complete between sessions too. These won't be too onerous, but it is often said that the biggest changes happen between sessions, as your unconscious mind absorbs and processes what we’ve been working through. Your full participation in these tasks is a necessary part of treatment.\"),\n",
       " 'a2cdd32e-0c7b-49c2-b2fa-3145c6d596fe': Document(metadata={'Header 1': 'Frequently Asked Questions about Daydream Therapy (FAQs)', 'Header 2': 'FAQ', 'Header 4': 'Q: Do you offer a guarantee?'}, page_content='Q: Do you offer a guarantee?\\nNo therapist can – in good faith – offer a guarantee. Nobody can do this for you, or to you. It’s a process we have to work through together. What I can guarantee is you will have my full professional commitment to your treatment and that I will guide and support you as best I’m able. A great many of my clients have found this process has led to positive lasting changes in their lives – and I hope you can too.'),\n",
       " 'f65897e6-378a-498c-b0c9-2ed61b2769f1': Document(metadata={'Header 1': 'Frequently Asked Questions about Daydream Therapy (FAQs)', 'Header 2': 'FAQ', 'Header 4': 'Q: What does hypnosis feel like?'}, page_content='Q: What does hypnosis feel like?\\nHypnotic trance can feel a little like daydreaming. Generally it’s a very pleasant sensation where you are conscious of what is going on around you and what is happening throughout the session, but may choose to ‘drift off’ with your own thoughts from time to time. Some people report being more conscious of things happening around them, during hypnosis, with a heightened sense of awareness. So, we all experience it differently, and the one thing I do know is that everyone’s experience is unique, so it isn’t possible to get it ‘wrong’. The way you experience hypnosis is the right way for you, and it may well be different to someone else.  \\nHowever, most people comment on how relaxed they feel during hypnosis. This feeling often continues for sometime after the session is over, leaving you ready to continue your day.'),\n",
       " 'b0b928ac-36f9-4f5c-a1ce-6285f821fe49': Document(metadata={'Header 1': 'Frequently Asked Questions about Daydream Therapy (FAQs)', 'Header 2': 'FAQ', 'Header 4': 'Q: Is it Confidential?'}, page_content='Q: Is it Confidential?\\nDefinitely. I am bound by the UK NCH Code of Ethics – not least of all my own ethical principles. Your treatment will be conducted in a safe, comfortable, and totally private environment – where you feel you can explore anything without fear of judgment or embarrassment.'),\n",
       " 'c50e4459-5cb6-4b9e-82fd-c0e2f7aa6ea3': Document(metadata={'Header 1': 'Frequently Asked Questions about Daydream Therapy (FAQs)', 'Header 2': 'FAQ', 'Header 4': 'Q: I feel quite slightly embarrassed to seek help. Is this normal?'}, page_content='Q: I feel quite slightly embarrassed to seek help. Is this normal?\\nOf course\\\\! It takes great bravery to open up to anyone about the struggles we’re experiencing, or even just the fact we’re experiencing a struggle at all. At the end of your initial consultation, those fears or concerns will melt away. It’s one of many great barriers you’ll pass by. Rest assured, you’re not alone. And during your initial consultation, we will of course discuss any reservations or queries you have before making any form of commitment.'),\n",
       " '7e902e07-75a1-4def-aac0-e832e5e1df80': Document(metadata={'Header 1': 'Frequently Asked Questions about Daydream Therapy (FAQs)', 'Header 2': 'FAQ', 'Header 4': 'Q: Are you governed by Professional Bodies?'}, page_content='Q: Are you governed by Professional Bodies?\\nMy practice is fully insured and governed by the code and ethics of three regulating professional bodies; NCH, QCHPA.\\nAs a member of the NCH & QCHPA there are certain people whom I cannot work with. If you have ever been diagnosed with the following conditions I am afraid that I will not be able to work with you:\\n•    Epilepsy (the deep relaxation of hypnotherapy is contra-indicated)\\n•    Psychosis (Bi-Polar Disorder, Schizophrenia, Personality Disorder)')}"
      ]
     },
     "execution_count": 6,
     "metadata": {},
     "output_type": "execute_result"
    }
   ],
   "source": [
    "new_vector_store.docstore._dict"
   ]
  },
  {
   "cell_type": "code",
   "execution_count": 23,
   "id": "91e6c727-d96e-459b-988e-d3f4227d5c6c",
   "metadata": {},
   "outputs": [],
   "source": [
    "from langchain_groq import ChatGroq # Import Groq's LLM interface (replace with the actual import if it differs)\n",
    "\n",
    "\n",
    "# Initialize the Groq LLM\n",
    "groq_llm = ChatGroq(\n",
    "    model=\"mixtral-8x7b-32768\",\n",
    "    temperature=0,\n",
    "    max_tokens=None,\n",
    "    timeout=None,\n",
    "    max_retries=2,\n",
    "    # other params...\n",
    ")"
   ]
  },
  {
   "cell_type": "code",
   "execution_count": 48,
   "id": "db202dc0-fd1a-48b3-b4db-5a04365ea34a",
   "metadata": {},
   "outputs": [],
   "source": [
    "review_template = \"\"\"Your task is to use the provided content to answer questions about hypnotherapy services offered by the hypnotherapist. \n",
    "Use the following context to provide detailed and accurate information. \n",
    "Do not create or assume information beyond what is given in the context. \n",
    "If the answer is not covered by the provided context, \n",
    "kindly encourage the client to reach out to the hypnotherapist directly via email or phone for more information.\n",
    "{context}\n",
    "\"\"\"\n",
    "\n",
    "review_system_prompt = SystemMessagePromptTemplate(\n",
    "    prompt=PromptTemplate(input_variables=[\"context\"], template=review_template)\n",
    ")\n",
    "\n",
    "review_human_prompt = HumanMessagePromptTemplate(\n",
    "    prompt=PromptTemplate(input_variables=[\"question\"], template=\"{question}\")\n",
    ")\n",
    "messages = [review_system_prompt, review_human_prompt]\n",
    "\n",
    "review_prompt = ChatPromptTemplate(\n",
    "    input_variables=[\"context\", \"question\"], messages=messages\n",
    ")\n",
    "\n",
    "reviews_vector_chain = RetrievalQA.from_chain_type(\n",
    "    llm=groq_llm,\n",
    "    chain_type=\"stuff\",\n",
    "    retriever=new_vector_store.as_retriever(search_type=\"similarity_score_threshold\", \n",
    "                                            search_kwargs={\"score_threshold\": .5, \n",
    "                                            \"k\": 3}),\n",
    ")\n",
    "reviews_vector_chain.combine_documents_chain.llm_chain.prompt = review_prompt"
   ]
  },
  {
   "cell_type": "code",
   "execution_count": 49,
   "id": "9d5d24d3-7e32-4755-a420-6f1ba7c41978",
   "metadata": {},
   "outputs": [
    {
     "name": "stdout",
     "output_type": "stream",
     "text": [
      "Answer: Based on the information provided, hypnotherapy can be an effective solution for quitting smoking, but its success largely depends on the individual's willingness to change and commitment to the process. The text mentions that cognitive hypnotherapy is a form of mental reprogramming, which can help individuals learn new ways of thinking, behaving, and feeling.\n",
      "\n",
      "The hypnotherapist has observed that clients who are curious, open to learning about themselves, and prepared to put in the effort are more likely to achieve positive changes in their lives. This suggests that individuals seeking hypnotherapy for quitting smoking would benefit from having a similar mindset – being open to the process, willing to learn about their habits and triggers, and committed to making a change.\n",
      "\n",
      "However, it's essential to remember that hypnotherapy is not a \"miracle pill\" and requires active participation from the client. The hypnotherapist can guide and support the individual throughout the process, but ultimately, the responsibility for change lies with the individual.\n",
      "\n",
      "If you're considering hypnotherapy for quitting smoking, it's recommended to reach out to the hypnotherapist for a consultation to discuss your specific situation and determine if hypnotherapy is the right approach for you.\n"
     ]
    }
   ],
   "source": [
    "# Example question\n",
    "question = \"How effective is hypnotherapy for quitting smoking?\"\n",
    "\n",
    "# Get the answer\n",
    "answer = reviews_vector_chain.invoke(question)\n",
    "\n",
    "# Print the answer\n",
    "print(\"Answer:\", answer['result'])"
   ]
  }
 ],
 "metadata": {
  "kernelspec": {
   "display_name": "Python 3 (ipykernel)",
   "language": "python",
   "name": "python3"
  },
  "language_info": {
   "codemirror_mode": {
    "name": "ipython",
    "version": 3
   },
   "file_extension": ".py",
   "mimetype": "text/x-python",
   "name": "python",
   "nbconvert_exporter": "python",
   "pygments_lexer": "ipython3",
   "version": "3.12.1"
  }
 },
 "nbformat": 4,
 "nbformat_minor": 5
}
