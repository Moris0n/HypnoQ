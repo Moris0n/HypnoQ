{
 "cells": [
  {
   "cell_type": "code",
   "execution_count": 1,
   "id": "6971236f-ec00-4df6-a404-6fecfb4b9059",
   "metadata": {},
   "outputs": [],
   "source": [
    "from langchain.text_splitter import MarkdownHeaderTextSplitter"
   ]
  },
  {
   "cell_type": "code",
   "execution_count": 2,
   "id": "f0880bca-6250-4961-bbe3-34928cc34e5a",
   "metadata": {},
   "outputs": [],
   "source": [
    "markdown_document = \"\"\"# Title\\n\\n \\\n",
    "## Chapter 1\\n\\n \\\n",
    "Hi this is Jim\\n\\n Hi this is Joe\\n\\n \\\n",
    "### Section \\n\\n \\\n",
    "Hi this is Lance \\n\\n \n",
    "## Chapter 2\\n\\n \\\n",
    "Hi this is Molly\"\"\"\n",
    "\n",
    "\n",
    "headers_to_split_on = [\n",
    "    (\"#\", \"Header 1\"),\n",
    "    (\"##\", \"Header 2\"),\n",
    "    (\"###\", \"Header 3\"),\n",
    "    (\"####\", \"Header 4\"),\n",
    "]"
   ]
  },
  {
   "cell_type": "code",
   "execution_count": 3,
   "id": "35a47553-2694-4840-9576-ea414caa3496",
   "metadata": {},
   "outputs": [],
   "source": [
    "markdown_splitter = MarkdownHeaderTextSplitter(\n",
    "    headers_to_split_on=headers_to_split_on\n",
    ")\n",
    "md_header_splits = markdown_splitter.split_text(markdown_document)"
   ]
  },
  {
   "cell_type": "code",
   "execution_count": 4,
   "id": "51190c8a-ba03-439c-924f-ddaf78c2dd9f",
   "metadata": {},
   "outputs": [
    {
     "data": {
      "text/plain": [
       "Document(metadata={'Header 1': 'Title', 'Header 2': 'Chapter 1'}, page_content='Hi this is Jim  \\nHi this is Joe')"
      ]
     },
     "execution_count": 4,
     "metadata": {},
     "output_type": "execute_result"
    }
   ],
   "source": [
    "md_header_splits[0]\n"
   ]
  },
  {
   "cell_type": "code",
   "execution_count": 5,
   "id": "cf8fa081-5067-4c56-91a6-a46d0da09293",
   "metadata": {},
   "outputs": [
    {
     "data": {
      "text/plain": [
       "Document(metadata={'Header 1': 'Title', 'Header 2': 'Chapter 1', 'Header 3': 'Section'}, page_content='Hi this is Lance')"
      ]
     },
     "execution_count": 5,
     "metadata": {},
     "output_type": "execute_result"
    }
   ],
   "source": [
    "md_header_splits[1]\n"
   ]
  },
  {
   "cell_type": "code",
   "execution_count": 22,
   "id": "32e6b73b-6690-4bbf-a1d6-2bfb50f128d1",
   "metadata": {},
   "outputs": [
    {
     "data": {
      "application/vnd.jupyter.widget-view+json": {
       "model_id": "7041d77d9f304b928eedc6460183a715",
       "version_major": 2,
       "version_minor": 0
      },
      "text/plain": [
       "Fetching 5 files:   0%|          | 0/5 [00:00<?, ?it/s]"
      ]
     },
     "metadata": {},
     "output_type": "display_data"
    }
   ],
   "source": [
    "import faiss\n",
    "from langchain_community.docstore.in_memory import InMemoryDocstore\n",
    "from langchain_community.vectorstores import FAISS\n",
    "from langchain_community.embeddings.fastembed import FastEmbedEmbeddings\n",
    "import numpy as np\n",
    "\n",
    "embeddings = FastEmbedEmbeddings(model_name=\"BAAI/bge-base-en-v1.5\")\n",
    "\n",
    "# Load the FAISS index\n",
    "new_vector_store = FAISS.load_local(\n",
    "    \"hypnoq_index\", embeddings, allow_dangerous_deserialization=True\n",
    ")\n"
   ]
  },
  {
   "cell_type": "code",
   "execution_count": 23,
   "id": "65861452-f09b-40de-ad8f-a11eea16c830",
   "metadata": {},
   "outputs": [
    {
     "name": "stdout",
     "output_type": "stream",
     "text": [
      "17\n"
     ]
    }
   ],
   "source": [
    "print(new_vector_store.index.ntotal)\n"
   ]
  },
  {
   "cell_type": "code",
   "execution_count": 24,
   "id": "88dba908-b26f-4df8-95b0-76a674347844",
   "metadata": {},
   "outputs": [
    {
     "name": "stdout",
     "output_type": "stream",
     "text": [
      "[ 0.03044786  0.00824315  0.01679824 -0.0161869   0.0183137 ]\n"
     ]
    }
   ],
   "source": [
    "vector = new_vector_store.index.reconstruct(0)  # Retrieves the first vector\n",
    "print(vector[:5])\n"
   ]
  },
  {
   "cell_type": "code",
   "execution_count": 25,
   "id": "0f6afa03-9a2a-4edd-a08c-868daa2ea593",
   "metadata": {},
   "outputs": [
    {
     "data": {
      "text/plain": [
       "[Document(metadata={'Header 1': 'Frequently Asked Questions about Daydream Therapy (FAQs)', 'Header 2': 'FAQ', 'Header 4': 'Q: Will hypnotherapy work for Me?'}, page_content='Q: Will hypnotherapy work for Me?\\nEveryone is capable of change. Whether you will effect that change is largely down to you. Cognitive Hypnotherapy isn’t a miracle pill. It’s a process of mental reprogramming. Our sessions will guide you to learn how to think, behave, and feel differently.  \\nSince I began practicing as a therapist, I’ve noticed some common traits among the clients who have made the most positive changes in their lives. They are curious, willing to learn about themselves, and being prepared to put in the work. I can guide you. And I will support you always. But nobody can do it for you.'),\n",
       " Document(metadata={'Header 1': 'Frequently Asked Questions about Daydream Therapy (FAQs)', 'Header 2': 'FAQ', 'Header 4': 'My approach'}, page_content='My approach\\nYour treatment plan will be tailored to your specific individual needs and goals and will be conducted in a safe, comfortable environment where you feel you can explore anything without fear of judgment or embarrassment. I am fun, practical and down to earth – and that’s exactly how you can expect sessions with me to be.'),\n",
       " Document(metadata={'Header 1': 'Frequently Asked Questions about Daydream Therapy (FAQs)', 'Header 2': 'FAQ', 'Header 4': 'Q: How do I book a session?'}, page_content='Q: How do I book a session?\\nPlease see my contact page to send me a message or call me. If you call or email and I am not available then I promise I will call you back as soon as I can, usually within 24 hours.'),\n",
       " Document(metadata={'Header 1': 'Frequently Asked Questions about Daydream Therapy (FAQs)', 'Header 2': 'FAQ', 'Header 4': 'Q: I feel quite slightly embarrassed to seek help. Is this normal?'}, page_content='Q: I feel quite slightly embarrassed to seek help. Is this normal?\\nOf course\\\\! It takes great bravery to open up to anyone about the struggles we’re experiencing, or even just the fact we’re experiencing a struggle at all. At the end of your initial consultation, those fears or concerns will melt away. It’s one of many great barriers you’ll pass by. Rest assured, you’re not alone. And during your initial consultation, we will of course discuss any reservations or queries you have before making any form of commitment.'),\n",
       " Document(metadata={'Header 1': 'Frequently Asked Questions about Daydream Therapy (FAQs)', 'Header 2': 'FAQ', 'Header 4': 'Q: Are you governed by Professional Bodies?'}, page_content='Q: Are you governed by Professional Bodies?\\nMy practice is fully insured and governed by the code and ethics of three regulating professional bodies; NCH, QCHPA.\\nAs a member of the NCH & QCHPA there are certain people whom I cannot work with. If you have ever been diagnosed with the following conditions I am afraid that I will not be able to work with you:\\n•    Epilepsy (the deep relaxation of hypnotherapy is contra-indicated)\\n•    Psychosis (Bi-Polar Disorder, Schizophrenia, Personality Disorder)')]"
      ]
     },
     "execution_count": 25,
     "metadata": {},
     "output_type": "execute_result"
    }
   ],
   "source": [
    "retriever = new_vector_store.as_retriever(search_type=\"mmr\", search_kwargs={\"k\": 5})\n",
    "retriever.invoke(\"Will hypnotherapy work for Me?\")\n"
   ]
  },
  {
   "cell_type": "code",
   "execution_count": null,
   "id": "302658df-da20-4253-8b56-ffe2226b538c",
   "metadata": {},
   "outputs": [],
   "source": []
  }
 ],
 "metadata": {
  "kernelspec": {
   "display_name": "Python 3 (ipykernel)",
   "language": "python",
   "name": "python3"
  },
  "language_info": {
   "codemirror_mode": {
    "name": "ipython",
    "version": 3
   },
   "file_extension": ".py",
   "mimetype": "text/x-python",
   "name": "python",
   "nbconvert_exporter": "python",
   "pygments_lexer": "ipython3",
   "version": "3.12.1"
  }
 },
 "nbformat": 4,
 "nbformat_minor": 5
}
