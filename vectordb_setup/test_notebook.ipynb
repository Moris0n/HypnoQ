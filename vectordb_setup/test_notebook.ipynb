{
 "cells": [
  {
   "cell_type": "code",
   "execution_count": 1,
   "id": "6971236f-ec00-4df6-a404-6fecfb4b9059",
   "metadata": {},
   "outputs": [],
   "source": [
    "from langchain.text_splitter import MarkdownHeaderTextSplitter"
   ]
  },
  {
   "cell_type": "code",
   "execution_count": 2,
   "id": "f0880bca-6250-4961-bbe3-34928cc34e5a",
   "metadata": {},
   "outputs": [],
   "source": [
    "markdown_document = \"\"\"# Title\\n\\n \\\n",
    "## Chapter 1\\n\\n \\\n",
    "Hi this is Jim\\n\\n Hi this is Joe\\n\\n \\\n",
    "### Section \\n\\n \\\n",
    "Hi this is Lance \\n\\n \n",
    "## Chapter 2\\n\\n \\\n",
    "Hi this is Molly\"\"\"\n",
    "\n",
    "\n",
    "headers_to_split_on = [\n",
    "    (\"#\", \"Header 1\"),\n",
    "    (\"##\", \"Header 2\"),\n",
    "    (\"###\", \"Header 3\"),\n",
    "    (\"####\", \"Header 4\"),\n",
    "]"
   ]
  },
  {
   "cell_type": "code",
   "execution_count": 3,
   "id": "35a47553-2694-4840-9576-ea414caa3496",
   "metadata": {},
   "outputs": [],
   "source": [
    "markdown_splitter = MarkdownHeaderTextSplitter(\n",
    "    headers_to_split_on=headers_to_split_on\n",
    ")\n",
    "md_header_splits = markdown_splitter.split_text(markdown_document)"
   ]
  },
  {
   "cell_type": "code",
   "execution_count": 4,
   "id": "51190c8a-ba03-439c-924f-ddaf78c2dd9f",
   "metadata": {},
   "outputs": [
    {
     "data": {
      "text/plain": [
       "Document(metadata={'Header 1': 'Title', 'Header 2': 'Chapter 1'}, page_content='Hi this is Jim  \\nHi this is Joe')"
      ]
     },
     "execution_count": 4,
     "metadata": {},
     "output_type": "execute_result"
    }
   ],
   "source": [
    "md_header_splits[0]\n"
   ]
  },
  {
   "cell_type": "code",
   "execution_count": 5,
   "id": "cf8fa081-5067-4c56-91a6-a46d0da09293",
   "metadata": {},
   "outputs": [
    {
     "data": {
      "text/plain": [
       "Document(metadata={'Header 1': 'Title', 'Header 2': 'Chapter 1', 'Header 3': 'Section'}, page_content='Hi this is Lance')"
      ]
     },
     "execution_count": 5,
     "metadata": {},
     "output_type": "execute_result"
    }
   ],
   "source": [
    "md_header_splits[1]\n"
   ]
  },
  {
   "cell_type": "code",
   "execution_count": 1,
   "id": "cf29bdc4-e693-4987-acb6-06aa57d3668b",
   "metadata": {},
   "outputs": [],
   "source": [
    "import os\n",
    "from langchain.text_splitter import MarkdownHeaderTextSplitter\n",
    "from langchain_community.embeddings.fastembed import FastEmbedEmbeddings\n",
    "from langchain.vectorstores import FAISS\n",
    "from langchain.docstore.document import Document\n",
    "from langchain.document_loaders import DirectoryLoader\n",
    "from langchain_community.document_loaders import TextLoader\n",
    "from langchain.vectorstores import Chroma\n",
    "\n",
    "# Set your directory path\n",
    "directory_path = '../data'\n",
    "\n",
    "# Initialize the document loader\n",
    "loader = DirectoryLoader(directory_path, glob=\"**/*.md\", loader_cls=TextLoader)\n",
    "\n",
    "# Load all markdown files\n",
    "documents = loader.load()\n",
    "\n"
   ]
  },
  {
   "cell_type": "code",
   "execution_count": 2,
   "id": "ee9a7a3b-affc-4337-9905-d9b9655ebcb0",
   "metadata": {},
   "outputs": [],
   "source": [
    "# Define headers to split on with labels (e.g., `#`, `##`, `###`)\n",
    "headers_to_split_on = [\n",
    "    (\"#\", \"Header 1\"),\n",
    "    (\"##\", \"Header 2\"),\n",
    "    (\"###\", \"Header 3\"),\n",
    "    (\"####\", \"Header 4\")\n",
    "]\n",
    "\n",
    "# Initialize the MarkdownHeaderTextSplitter\n",
    "splitter = MarkdownHeaderTextSplitter(headers_to_split_on=headers_to_split_on)\n"
   ]
  },
  {
   "cell_type": "code",
   "execution_count": 3,
   "id": "b160381a-0922-4c76-9813-25b66fdb2a40",
   "metadata": {},
   "outputs": [],
   "source": [
    "# Split the documents into smaller chunks\n",
    "split_documents = []\n",
    "for document in documents:\n",
    "    split_texts = splitter.split_text(document.page_content)\n",
    "    split_documents+=split_texts\n",
    "\n"
   ]
  },
  {
   "cell_type": "code",
   "execution_count": 4,
   "id": "38373e73-ac5c-4011-8559-bf952de135a1",
   "metadata": {},
   "outputs": [
    {
     "data": {
      "text/plain": [
       "Document(metadata={'Header 1': 'Frequently Asked Questions about Daydream Therapy (FAQs)', 'Header 2': 'FAQ', 'Header 4': 'What is hypnosis and is it safe?'}, page_content='During hypnosis I use this state within you to make positive suggestions to your unconscious mind, based on what you tell me you want to achieve. Your unconscious is in a much more receptive position when you are in this relaxed state. Therefore, it is an incredibly effective tool, to take you towards your solution. When combined with other tools and techniques, such as NLP, can make short work of long-standing problems.  \\nAnd yes, it is a safe, and natural state that we all go in and out of many times during our day, perhaps without even knowing it. If you have ever been driving along a road and then ‘come to’ and wondered who was in control of the car for the last five minutes, or been ’miles away’ when someone is trying to talk to you – that’s trance, and we are all very good at it. It’s a little like day-dreaming for some people, but it also often heightens the awareness of the senses too.')"
      ]
     },
     "execution_count": 4,
     "metadata": {},
     "output_type": "execute_result"
    }
   ],
   "source": [
    "split_documents[0]"
   ]
  },
  {
   "cell_type": "code",
   "execution_count": 6,
   "id": "60af1632-a0d9-4755-8f65-c99c91e66b44",
   "metadata": {},
   "outputs": [
    {
     "data": {
      "application/vnd.jupyter.widget-view+json": {
       "model_id": "38ea43ba640a4496a659bb606e133bc6",
       "version_major": 2,
       "version_minor": 0
      },
      "text/plain": [
       "Fetching 5 files:   0%|          | 0/5 [00:00<?, ?it/s]"
      ]
     },
     "metadata": {},
     "output_type": "display_data"
    }
   ],
   "source": [
    "# Initialize the embedding model (using OpenAI here, you can use others like HuggingFace)\n",
    "#embedding_model = OpenAIEmbeddings()\n",
    "embed_model = FastEmbedEmbeddings(model_name=\"BAAI/bge-base-en-v1.5\")\n",
    "\n",
    "\n",
    "# Create a FAISS vector store\n",
    "vector_store = FAISS.from_documents(split_documents, embed_model)\n",
    "\n",
    "# Optionally, save the vector store for later use\n",
    "vector_store.save_local(\"faiss_vector_store\")\n",
    "\n",
    "# You can load it back later with\n",
    "# vector_store = FAISS.load_local(\"faiss_vector_store\", embedding_model)\n"
   ]
  },
  {
   "cell_type": "code",
   "execution_count": null,
   "id": "4774a4b4-3fad-4aa2-9dad-6f479c3560ba",
   "metadata": {},
   "outputs": [],
   "source": []
  }
 ],
 "metadata": {
  "kernelspec": {
   "display_name": "Python 3 (ipykernel)",
   "language": "python",
   "name": "python3"
  },
  "language_info": {
   "codemirror_mode": {
    "name": "ipython",
    "version": 3
   },
   "file_extension": ".py",
   "mimetype": "text/x-python",
   "name": "python",
   "nbconvert_exporter": "python",
   "pygments_lexer": "ipython3",
   "version": "3.12.1"
  }
 },
 "nbformat": 4,
 "nbformat_minor": 5
}
