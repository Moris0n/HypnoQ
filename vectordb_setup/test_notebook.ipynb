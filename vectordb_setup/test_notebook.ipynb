{
 "cells": [
  {
   "cell_type": "code",
   "execution_count": 1,
   "id": "6971236f-ec00-4df6-a404-6fecfb4b9059",
   "metadata": {},
   "outputs": [],
   "source": [
    "from langchain.text_splitter import MarkdownHeaderTextSplitter"
   ]
  },
  {
   "cell_type": "code",
   "execution_count": 2,
   "id": "f0880bca-6250-4961-bbe3-34928cc34e5a",
   "metadata": {},
   "outputs": [],
   "source": [
    "markdown_document = \"\"\"# Title\\n\\n \\\n",
    "## Chapter 1\\n\\n \\\n",
    "Hi this is Jim\\n\\n Hi this is Joe\\n\\n \\\n",
    "### Section \\n\\n \\\n",
    "Hi this is Lance \\n\\n \n",
    "## Chapter 2\\n\\n \\\n",
    "Hi this is Molly\"\"\"\n",
    "\n",
    "\n",
    "headers_to_split_on = [\n",
    "    (\"#\", \"Header 1\"),\n",
    "    (\"##\", \"Header 2\"),\n",
    "    (\"###\", \"Header 3\"),\n",
    "    (\"####\", \"Header 4\"),\n",
    "]"
   ]
  },
  {
   "cell_type": "code",
   "execution_count": 3,
   "id": "35a47553-2694-4840-9576-ea414caa3496",
   "metadata": {},
   "outputs": [],
   "source": [
    "markdown_splitter = MarkdownHeaderTextSplitter(\n",
    "    headers_to_split_on=headers_to_split_on\n",
    ")\n",
    "md_header_splits = markdown_splitter.split_text(markdown_document)"
   ]
  },
  {
   "cell_type": "code",
   "execution_count": 4,
   "id": "51190c8a-ba03-439c-924f-ddaf78c2dd9f",
   "metadata": {},
   "outputs": [
    {
     "data": {
      "text/plain": [
       "Document(metadata={'Header 1': 'Title', 'Header 2': 'Chapter 1'}, page_content='Hi this is Jim  \\nHi this is Joe')"
      ]
     },
     "execution_count": 4,
     "metadata": {},
     "output_type": "execute_result"
    }
   ],
   "source": [
    "md_header_splits[0]\n"
   ]
  },
  {
   "cell_type": "code",
   "execution_count": 5,
   "id": "cf8fa081-5067-4c56-91a6-a46d0da09293",
   "metadata": {},
   "outputs": [
    {
     "data": {
      "text/plain": [
       "Document(metadata={'Header 1': 'Title', 'Header 2': 'Chapter 1', 'Header 3': 'Section'}, page_content='Hi this is Lance')"
      ]
     },
     "execution_count": 5,
     "metadata": {},
     "output_type": "execute_result"
    }
   ],
   "source": [
    "md_header_splits[1]\n"
   ]
  },
  {
   "cell_type": "code",
   "execution_count": 26,
   "id": "32e6b73b-6690-4bbf-a1d6-2bfb50f128d1",
   "metadata": {},
   "outputs": [
    {
     "data": {
      "application/vnd.jupyter.widget-view+json": {
       "model_id": "06d09882e81b42cab34a6eb1397a9224",
       "version_major": 2,
       "version_minor": 0
      },
      "text/plain": [
       "Fetching 5 files:   0%|          | 0/5 [00:00<?, ?it/s]"
      ]
     },
     "metadata": {},
     "output_type": "display_data"
    }
   ],
   "source": [
    "import faiss\n",
    "from langchain_community.docstore.in_memory import InMemoryDocstore\n",
    "from langchain_community.vectorstores import FAISS\n",
    "from langchain_community.embeddings.fastembed import FastEmbedEmbeddings\n",
    "import numpy as np\n",
    "\n",
    "embeddings = FastEmbedEmbeddings(model_name=\"BAAI/bge-base-en-v1.5\")\n",
    "\n",
    "# Load the FAISS index\n",
    "new_vector_store = FAISS.load_local(\n",
    "    \"hypnoq_index\", embeddings, allow_dangerous_deserialization=True\n",
    ")\n"
   ]
  },
  {
   "cell_type": "code",
   "execution_count": 27,
   "id": "65861452-f09b-40de-ad8f-a11eea16c830",
   "metadata": {},
   "outputs": [
    {
     "name": "stdout",
     "output_type": "stream",
     "text": [
      "17\n"
     ]
    }
   ],
   "source": [
    "print(new_vector_store.index.ntotal)\n"
   ]
  },
  {
   "cell_type": "code",
   "execution_count": 28,
   "id": "88dba908-b26f-4df8-95b0-76a674347844",
   "metadata": {},
   "outputs": [
    {
     "name": "stdout",
     "output_type": "stream",
     "text": [
      "[ 0.02520197 -0.00251989 -0.00073191 -0.0233131   0.016599  ]\n"
     ]
    }
   ],
   "source": [
    "vector = new_vector_store.index.reconstruct(0)  # Retrieves the first vector\n",
    "print(vector[:5])\n"
   ]
  },
  {
   "cell_type": "code",
   "execution_count": 29,
   "id": "0f6afa03-9a2a-4edd-a08c-868daa2ea593",
   "metadata": {},
   "outputs": [
    {
     "data": {
      "text/plain": [
       "[Document(metadata={'Header 1': 'Frequently Asked Questions about Daydream Therapy (FAQs)', 'Header 2': 'FAQ', 'Header 4': 'Q: What do we mean by hypnotherapy?'}, page_content='People tend to think of hypnotherapy as something that is done to them. This couldn’t be further from the truth. You won’t be ‘under my control’, you will not lose control of your mind or body, and you won’t be going into a deep sleep. You’re in control. I’m merely there as a facilitator and guide.  Sometimes you may close your eyes and listen to me, but you will always have the sense of where you are and what you are doing and can talk or open your eyes whenever you want.  \\nThese conversations with your unconscious mind lead you to leave our sessions feeling a little bit ‘different’ and you’ll notice changes start to appear in the way you act & feel. While they start small, these little course corrections gradually grow into much bigger changes.  You start to notice how you are thinking differently and behaving differently – moving towards your future self.'),\n",
       " Document(metadata={'Header 1': 'Frequently Asked Questions about Daydream Therapy (FAQs)', 'Header 2': 'FAQ', 'Header 4': 'Q: How do I book a session?'}, page_content='Please see my contact page to send me a message or call me. If you call or email and I am not available then I promise I will call you back as soon as I can, usually within 24 hours.'),\n",
       " Document(metadata={'Header 1': 'Frequently Asked Questions about Daydream Therapy (FAQs)', 'Header 2': 'FAQ', 'Header 4': 'Q: Where are sessions held?'}, page_content='I can see clients in my therapy rooms (in Hersham, Esher or Wimbledon) or online using Zoom.\\nOccasionally I may see clients in their own home if their needs make this necessary, although it has to be a suitable environment for treatment to be effective.')]"
      ]
     },
     "execution_count": 29,
     "metadata": {},
     "output_type": "execute_result"
    }
   ],
   "source": [
    "retriever = new_vector_store.as_retriever(search_type=\"mmr\", search_kwargs={\"k\": 3})\n",
    "retriever.invoke(\"Will hypnotherapy work for Me?\")\n"
   ]
  },
  {
   "cell_type": "code",
   "execution_count": null,
   "id": "8204142c-4eb6-4e19-84d8-8563463dc751",
   "metadata": {},
   "outputs": [],
   "source": []
  }
 ],
 "metadata": {
  "kernelspec": {
   "display_name": "Python 3 (ipykernel)",
   "language": "python",
   "name": "python3"
  },
  "language_info": {
   "codemirror_mode": {
    "name": "ipython",
    "version": 3
   },
   "file_extension": ".py",
   "mimetype": "text/x-python",
   "name": "python",
   "nbconvert_exporter": "python",
   "pygments_lexer": "ipython3",
   "version": "3.12.1"
  }
 },
 "nbformat": 4,
 "nbformat_minor": 5
}
